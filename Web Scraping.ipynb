{
 "cells": [
  {
   "cell_type": "code",
   "execution_count": 1,
   "id": "4cc8b56e",
   "metadata": {},
   "outputs": [],
   "source": [
    "import requests \n",
    "from bs4 import BeautifulSoup\n",
    "import html5lib\n",
    "import pandas as pd\n"
   ]
  },
  {
   "cell_type": "code",
   "execution_count": 11,
   "id": "796cc3d2",
   "metadata": {},
   "outputs": [],
   "source": [
    "url='https://www.codewithharry.com'"
   ]
  },
  {
   "cell_type": "code",
   "execution_count": 12,
   "id": "9b81228f",
   "metadata": {},
   "outputs": [],
   "source": [
    "#1.Get The HTML\n",
    "r=requests.get(url)\n",
    "htmlContent=r.content\n"
   ]
  },
  {
   "cell_type": "code",
   "execution_count": 13,
   "id": "9c204d8c",
   "metadata": {},
   "outputs": [],
   "source": [
    "#2.Parse The Html\n",
    "soup=BeautifulSoup(htmlContent,'html.parser')"
   ]
  },
  {
   "cell_type": "code",
   "execution_count": 15,
   "id": "dc439d3a",
   "metadata": {},
   "outputs": [],
   "source": [
    "#3.HTML Tree Traversal\n",
    "\n",
    "#getting title\n",
    "title=soup.title\n",
    "\n",
    "#get all the paragraphs\n",
    "paras=soup.find_all('p')\n",
    "\n",
    "#get all the anchor tags\n",
    "anchors=soup.find_all('a')"
   ]
  },
  {
   "cell_type": "code",
   "execution_count": 17,
   "id": "a2666c47",
   "metadata": {},
   "outputs": [
    {
     "name": "stdout",
     "output_type": "stream",
     "text": [
      "<p class=\"mt-2 text-sm text-gray-500 md:text-base\">Confused on which course to take? I have got you covered. Browse courses and find out the best course for you. Its free! Code With Harry is my attempt to teach basics and those coding techniques to people in short time which took me ages to learn.</p>\n",
      "['mt-2', 'text-sm', 'text-gray-500', 'md:text-base']\n",
      "[]\n",
      "Confused on which course to take? I have got you covered. Browse courses and find out the best course for you. Its free! Code With Harry is my attempt to teach basics and those coding techniques to people in short time which took me ages to learn.\n"
     ]
    }
   ],
   "source": [
    "#get first element in the html page\n",
    "print(soup.find('p'))\n",
    "\n",
    "#get classes of any element in the html page\n",
    "print(soup.find('p')['class'])\n",
    "\n",
    "#find all elemnts with class lead\n",
    "print(soup.find_all('p',class_='lead'))\n",
    "\n",
    "#get text from tags/soup\n",
    "print(soup.find('p').get_text())"
   ]
  },
  {
   "cell_type": "code",
   "execution_count": 18,
   "id": "6ac97393",
   "metadata": {},
   "outputs": [
    {
     "name": "stdout",
     "output_type": "stream",
     "text": [
      "Home | CodeWithHarryCodeWithHarryMenuHomeCoursesBlogContactLoginSignupWelcome to CodeWithHarryConfused on which course to take? I have got you covered. Browse courses and find out the best course for you. Its free! Code With Harry is my attempt to teach basics and those coding techniques to people in short time which took me ages to learn.Free CoursesExplore BlogRecommended CoursesFree CourseTailwind Course In HindiComplete Tailwind CSS Course by CodeWithHarry in Hindi - Learn Tailwind CSS from scratch for free!  Start WatchingFree CourseNext.js Tutorials For BeginnersComplete Next.js Course by CodeWithHarry in Hindi - Learn Next.js from Scratch. Start WatchingFree CourseReact Js Tutorials For BeginnersReact is a free and open-source front-end JavaScript library. This series will cover React from starting to the end. We will learn react from the ground up! Start WatchingTestimonialsI don't have words to thank this man, I'm really grateful to have this channel and website in my daily routine. If you're a mere beginner, then you can trust this guy and can put your time into his content. I can assure you that it'll be worth it.Mohit KumarWeb DeveloperFor everyone who wants to level up their #Coding and #Dev skills - seriously, this channel is for you! Both basic and advanced stacks are covered on this channel, and one can learn according to his skill levels. And the icing on the cake is, everything is available for free.Rakesh ShettyWeb DeveloperCodeWithHarryCopyright © 2022 CodeWithHarry.com\n"
     ]
    }
   ],
   "source": [
    "print(soup.get_text())"
   ]
  },
  {
   "cell_type": "code",
   "execution_count": null,
   "id": "87093de9",
   "metadata": {},
   "outputs": [],
   "source": []
  }
 ],
 "metadata": {
  "kernelspec": {
   "display_name": "Python 3 (ipykernel)",
   "language": "python",
   "name": "python3"
  },
  "language_info": {
   "codemirror_mode": {
    "name": "ipython",
    "version": 3
   },
   "file_extension": ".py",
   "mimetype": "text/x-python",
   "name": "python",
   "nbconvert_exporter": "python",
   "pygments_lexer": "ipython3",
   "version": "3.9.7"
  }
 },
 "nbformat": 4,
 "nbformat_minor": 5
}
