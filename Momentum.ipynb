{
 "cells": [
  {
   "cell_type": "markdown",
   "metadata": {
    "id": "U1k32GLIm1o5"
   },
   "source": [
    "## Momentum \n",
    "\n",
    "Momentum-based Trading is based on the assumption that Stocks which have performed will in the past, will perform better in the coming future.\n",
    " \n",
    "To define 'past', we take a variable **N**, and say that : \n",
    "\n",
    "<centre> Momentum(For A particular stock) = Close Price(Today) - Close Price(N-day ago) </centre>\n",
    "\n",
    "This gives us our first hyper-parameter (parameters of the model which could be changed in order to improve the model) : **N**\n",
    "\n",
    "We would also be reshuffling our [Portfolio](https://www.investopedia.com/terms/p/portfolio.asp) at certain intervals of time, which gives us our second hyper-parameter: **T** (The time after which we'll be reshuffling our Portfolio)\n",
    "\n",
    "Its never suggested to keep all your money invested, you must have some risk-free assets as well, so that even if you lose some of your cash in trading, you could still place better bets and regain that lost cash, Thus, We get our third Hyper-parameter: **R**, The Ratio of Total Balance, which we will using for investing.\n",
    "\n",
    "You will not be investing in all the 30 Tickers now, Will you? You will choose the top few stocks, which show the highest promise in terms of Momentum, which brings us to another hyper-parameter: **M**, The Number of Top few stocks (based on Momentum), which you'll keep in your Portfolio.\n",
    "\n",
    "Finally, There's some brokerage fee which you need to pay in order to place orders on the stock market, typically its less than 0.05% of the total amount : **F**\n"
   ]
  },
  {
   "cell_type": "code",
   "execution_count": 1,
   "metadata": {
    "id": "GpkE6S0ZjSlB"
   },
   "outputs": [],
   "source": [
    "#Importing Required Libraries\n",
    "import pandas as pd\n",
    "import numpy as np\n",
    "import datetime\n",
    "import matplotlib.pyplot as plt\n",
    "import seaborn as sns\n",
    "\n",
    "#Declaring the Hyperparameters\n",
    "\n",
    "N = 50\n",
    "T = 7\n",
    "R = 0.8\n",
    "M = 5\n",
    "F = 0.0005   # 0.5% Brokerage fee"
   ]
  },
  {
   "cell_type": "markdown",
   "metadata": {
    "id": "DwPazs3-q618"
   },
   "source": [
    "The Second step would be to define a function which reads the Prices of various Stocks into memory.\n",
    "\n",
    "In the file DATA.csv , which we had uploaded in our repository, we have prices of 30 firms enlisted in S & P 500 Index (Apple, IBM, Cisco, Walmart and the like!) from 2nd January 2009 to 17th August 2020.\n",
    "\n",
    "For our purposes, We'll only be requiring certain columns. On an honest note, Just getting the Columns on Ticker, Date and Adjusted Closing Price would do the job, but if you want, you may take Opening Price as well.\n",
    "\n",
    "Read up about the [pandas.read_csv](https://pandas.pydata.org/docs/reference/api/pandas.read_csv.html) function from here, and figure out how you'll use it to do the job (You don't need all the columns!) "
   ]
  },
  {
   "cell_type": "code",
   "execution_count": 2,
   "metadata": {
    "id": "9rsbAPafuUk1"
   },
   "outputs": [],
   "source": [
    "def GetData(NameOfFile):\n",
    "    \n",
    "  #START CODE HERE\n",
    "    data=pd.read_csv(NameOfFile)\n",
    "    df=pd.DataFrame(data)\n",
    "    cols = [0,1,2,3]\n",
    "    df=df[df.columns[cols]]\n",
    "\n",
    "\n",
    "    return df  # pd.DataFrame Object"
   ]
  },
  {
   "cell_type": "markdown",
   "metadata": {
    "id": "qkWJ29Kquf2B"
   },
   "source": [
    "To aid Data-Manipulation, it would be beneficial, if we split the DataFrame into many small parts each corresponding to the data corresponding to the 30 Tickers on a particular date. These small parts could then be stored in a list.\n",
    "\n",
    "We would also be needing to remember which date is at what index, so that we can use that later. "
   ]
  },
  {
   "cell_type": "code",
   "execution_count": 3,
   "metadata": {
    "id": "d4HLxmu9HTl8"
   },
   "outputs": [],
   "source": [
    "def PartitionData():\n",
    "    df=GetData('data.csv')\n",
    "    list1=[]\n",
    "    DateToIndex = {y:int(x/30) for x,y in zip(df[df.columns[0]],df[df.columns[1]]) if x%30==0}\n",
    "    for j in range(len(DateToIndex.keys())):\n",
    "        list1.append(df.loc[(df['ind']<30*(j+1)) & (df['ind']>=30*j) ])\n",
    "\n",
    "  \n",
    "\n",
    "\n",
    "\n",
    "\n",
    "\n",
    "\n",
    "    return list1, DateToIndex    # List containing of the Data Partitioned according to Date, and the Dictionary mapping Dates to their index in the list "
   ]
  },
  {
   "cell_type": "markdown",
   "metadata": {
    "id": "peRRNuUQOnVM"
   },
   "source": [
    "Now, We need a function to calculate the Momentum value for all of our 30 Tickers.\n",
    "To do this, We need to have a few things in mind:\n",
    "\n",
    "\n",
    "1.   We need to start at Nth day in our list, as only then we'll be able to calculate the Momentum (This will be taken care of by later parts of the Program, when we actually run the Model)\n",
    "\n",
    "2.   The Stock Market isn't open on all days, so we often won't be able to go N days behind, and will have to take the closest value instead(We can't just go N entries behind in the List we created and expect that to work, Why?) In order to work with dates, you should get to know more about the datetime library of Python from [here](https://thispointer.com/python-how-to-convert-datetime-object-to-string-using-datetime-strftime/) (Especially the datetime.strftime() function) and about the [datetime.timedelta()](https://www.studytonight.com/python-howtos/how-to-add-days-to-date-in-python) function.\n",
    "\n",
    "Also, as you may have figured it out yourself, while DataFrames are great for Data Handling and small statistical calculations, They aren't so for big calculations as the Numpy Library has both a richer variety of functions for such manipulations and is also more efficient!\n",
    "\n",
    "After we calculate the Momentum for all our Tickers, it would be a great thing to do, if we could divide their prices by their mean(in the N day interval, as we need to see which stock outperforms others and in order to do this, it won't be fair if we take the absolute growth in numbers!(Why?)\n",
    "\n"
   ]
  },
  {
   "cell_type": "code",
   "execution_count": 4,
   "metadata": {
    "id": "tMKHAcBnSG5n"
   },
   "outputs": [],
   "source": [
    "def GetMomentumBasedPriority(PartitionedDataFrameList, DateToIndex ,today):\n",
    "        \n",
    "    \n",
    "  # PartitionedDataFrameList : Pandas DataFrame, The Output of your last function\n",
    "  # DateToIndex : Dictionary mapping dates to their index in the PartitionedDataFrameList\n",
    "  # today :  Today's date (string) In Format: YYYYMMDD\n",
    "\n",
    "\n",
    "  #NdaysAgo is a datatime.date() object contining the required data, you need to convert it to a string and then check if its\n",
    "  #actually there in the Data you have or will you have to get going using some other nearest date\n",
    "    today=str(today)\n",
    "\n",
    "    NdaysAgo = datetime.date(int(str(today[0:4])),int(str(today[4:6])),int(str(today[6:]))) + datetime.timedelta(days = -N)\n",
    "\n",
    "  #START CODE HERE!\n",
    "    date1=str(NdaysAgo).replace('-','')\n",
    "    \n",
    "    index=None\n",
    "    if (date1 in DateToIndex.keys()):\n",
    "        index=DateToIndex[int(date1)]\n",
    "    else:\n",
    "        date2=datetime.date(int(date1[0:4]),int(date1[4:6]),int(date1[6:]))\n",
    "        difference=int(date1)\n",
    "\n",
    "        for x in DateToIndex.keys():\n",
    "            x=str(x)\n",
    "            x=datetime.date(int(x[0:4]),int(x[4:6]),int(x[6:]))\n",
    "            if (abs(int((date2-x).days))<difference):\n",
    "                difference=abs(int((date2-x).days))\n",
    "                date1=str(x).replace('-','')\n",
    "                index=DateToIndex[int(date1)]\n",
    "                \n",
    "    date_latest='0'\n",
    "    for i in DateToIndex.keys():\n",
    "        if(int(i)<=int(today)):\n",
    "            date_latest=i\n",
    "    \n",
    "    index_latest=DateToIndex[date_latest]\n",
    "    Momentum=[float(x1)-float(x2) for x1,x2 in zip(list(PartitionedDataFrameList[int(index)]['adjcp']),list(PartitionedDataFrameList[int(index_latest)]['adjcp']))]\n",
    "    \n",
    "    \n",
    "    Mean=[]\n",
    "    for i in range(30):\n",
    "        sum=0\n",
    "        for j in range(int(index),int(index_latest)+1):\n",
    "            sum+=float(list(PartitionedDataFrameList[index]['adjcp'])[i])\n",
    "        sum=sum/(int(index_latest)+1-int(index))\n",
    "        Mean.append(sum)\n",
    "    \n",
    "        \n",
    "    Momentum=[1000*x1/x2 for x1,x2 in zip(Momentum,Mean)]        \n",
    "    Momentum=np.array(Momentum)\n",
    "\n",
    "    return Momentum #Numpy Array containing the Momentum divided by mean(in the N-day period considered) of all the 30 tickers, in the required order.\n",
    "\n"
   ]
  },
  {
   "cell_type": "markdown",
   "metadata": {
    "id": "s5QOHJ9Ra00l"
   },
   "source": [
    "Even after you have got your Momentum-based priorities, and have decided which stocks to buy and what will be the weight of each, you still need to figure out how much of each will you buy. To do this, first you'll sell all your pre-owned stocks which will increase your cash in hand, then you'll know the stocks to buy and their relative weights (given by their Momentum/mean) and you need a function which tells you how many stocks to buy for each ticker!"
   ]
  },
  {
   "cell_type": "code",
   "execution_count": 5,
   "metadata": {
    "id": "cQg8OWVg_qo5"
   },
   "outputs": [],
   "source": [
    "def GetBalanced(prices, weights,balance):\n",
    "  # prices : Numpy array containing Prices of all the 30 Stocks\n",
    "  # weights : Multi-hot Numpy Array : The Elements corresponding to stocks which are to be bought(Top M Stocks with positive Momentum Indicator) are set to their priority, All other elements are set to zero.\n",
    "  # Returns Numpy array containing the number of shares to buy for each stock!\n",
    "    summ=0\n",
    "    for j in weights:\n",
    "        summ+=j\n",
    "    arr=[]\n",
    "    for i in range(len(weights)):\n",
    "        money=weights[i]*balance/summ\n",
    "        arr.append(int(money/prices[i]))\n",
    "    arr2=np.array(arr)\n",
    "    return arr2\n",
    "            \n",
    "         \n",
    "    \n",
    "    \n",
    "\n",
    "\n",
    "  \n",
    "   "
   ]
  },
  {
   "cell_type": "code",
   "execution_count": 6,
   "metadata": {},
   "outputs": [],
   "source": [
    "def latest_prices(today):\n",
    "    x,y=PartitionData()\n",
    "    latest_date='20090102'\n",
    "    for item in y.keys():\n",
    "        if(int(item)<int(today)):\n",
    "            latest_date=item\n",
    "    index=y[int(latest_date)]\n",
    "    a=np.array(list(x[index]['adjcp']))\n",
    "    print(a)\n",
    "    \n",
    "    return a"
   ]
  },
  {
   "cell_type": "markdown",
   "metadata": {
    "id": "WWN9ri-rIb3e"
   },
   "source": [
    "Now, We need something to simulate our [Portfolio](https://www.investopedia.com/terms/p/portfolio.asp). In order to do that we need a class, which has certain  basic features and functionalities.\n",
    "\n",
    "Features : \n",
    "\n",
    "\n",
    "1.   Your Initial Balance\n",
    "2.   Your Current Balance\n",
    "3.   A list(/any other container) storing the number of stocks of each ticker currently in possession. (Numpy Array prefered)\n",
    "4.   Most recent prices of all the stocks (As a Numpy array)\n",
    "\n",
    "Functionalities: \n",
    "\n",
    "\n",
    "\n",
    "1.   Calculating current Net Worth (Balance+Total Evaluation of all Stocks owned!) \n",
    "2.   Buying a Particular Stock (Keep the Transaction fee in mind!)\n",
    "3.   Selling a particular Stock whole (Keep the Transaction Fee in mind!)\n",
    "4.   Rebalance Portfolio  (Takes Numpy array as input)\n",
    "5.   Function to change the value of most recent prices stored (Takes Numpy array as input)\n",
    "\n",
    "\n",
    "\n"
   ]
  },
  {
   "cell_type": "code",
   "execution_count": 7,
   "metadata": {
    "id": "gi60d9qUNO0_"
   },
   "outputs": [],
   "source": [
    "class PortFolio:\n",
    "    def __init__(self,initial_balance):\n",
    "        self.ib = initial_balance\n",
    "        self.cb=self.ib\n",
    "        self.arr_stocks=np.zeros(30)\n",
    "        x,y=PartitionData()        \n",
    "        self.lp=latest_prices(list(y.keys())[N])\n",
    "        \n",
    "        \n",
    "    def SellStock(self,index):        \n",
    "  #index : The index of the Stock to sell (0-29)\n",
    "        self.cb=self.cb+((1-F)*int((self.arr_stocks[index])*self.lp[index]))\n",
    "        self.arr_stocks[index]=0\n",
    "        \n",
    "  \n",
    "    def BuyStock(self,index, number):\n",
    "        \n",
    "  #index : The index of the Stock to buy (0-29) \n",
    "  #number : Number of shares to buy (float)\n",
    "        self.cb=self.cb-((1+F)*(number*int(self.lp[index])))\n",
    "        self.arr_stocks[index]+=number\n",
    "\n",
    "    def CalculateNetWorth(self):\n",
    "  #Return Net Worth (All Shares' costs+ Balance)\n",
    "        net_worth=self.cb + (sum([int(a)*int(b) for a,b in zip(self.arr_stocks,self.lp)]))\n",
    "        return net_worth\n",
    "\n",
    "\n",
    "\n",
    "    def ChangePricesTo(self,newPriceVector):\n",
    "  # newPriceVector : Numpy array containing the prices of all the stocks for the current day\n",
    "        self.lp=np.copy(newPriceVector)\n",
    "        \n",
    "\n",
    "\n",
    "    def RebalancePortFolio(self,newWeights):\n",
    "        new=newWeights.copy()\n",
    "    # newWeights : Numpy array containing Momentum/Mean for all stocks in the N-day period\n",
    "    # First sell all your pre-owned Stock (make sure to take transaction fee into account!)\n",
    "    # This would change your total balance\n",
    "    # Then take the top M(/might be less than M, if >(30-M) had negative Momentum) and send them to the GetBalanced() Function\n",
    "    # Then take that output and pass them to the BuyStocks function!\n",
    "        for j in range(len(newWeights)):\n",
    "            myPortfolio.SellStock(j)\n",
    "        for i in range(len(newWeights)):\n",
    "            if newWeights[i]>=0 & i<M:\n",
    "                pass\n",
    "            else:\n",
    "                newWeights[i]=0\n",
    "        \n",
    "        array=GetBalanced(self.lp,new,self.cb)\n",
    "        for temp in range(len(array)):\n",
    "            myPortfolio.BuyStock(temp,array[temp])\n",
    "        \n",
    "        return\n",
    "        \n",
    "    \n",
    "\n",
    "\n",
    "\n"
   ]
  },
  {
   "cell_type": "markdown",
   "metadata": {
    "id": "PKiLs-6TB6mU"
   },
   "source": [
    "With that the difficult part is over!\n",
    "\n",
    "Now, all you need to work on is a main loop, which calls all these functions"
   ]
  },
  {
   "cell_type": "code",
   "execution_count": 8,
   "metadata": {
    "id": "zjo2KrcaCmqf"
   },
   "outputs": [
    {
     "name": "stdout",
     "output_type": "stream",
     "text": [
      "Your Initial Balance?100000\n",
      "[13.63142857 12.66       33.83       26.42       15.45       62.94\n",
      " 23.70237024 17.21       93.9        20.14       91.22       14.25\n",
      " 50.73       23.09       20.635      51.69       47.47       26.21\n",
      " 16.25       10.9775     14.15       47.82       41.12       38.13\n",
      " 20.68       13.0425     28.55       23.44       48.8        66.97      ]\n"
     ]
    }
   ],
   "source": [
    "myPortfolio = PortFolio(int(input(\"Your Initial Balance?\")))\n",
    "NetWorthAfterEachTrade = []\n",
    "\n",
    "\n",
    "#First Get the Data\n",
    "Data = GetData('data.csv')\n",
    "PartitionedData, DateToIndex= PartitionData()\n",
    "\n",
    "#\n",
    "\n",
    "\n",
    "#Start processing from the (N+1)th Day(among the ones recorded in the Data)\n",
    "for i in range(N,len(list(DateToIndex.keys()))):\n",
    "    \n",
    "  # Change the Prices to the ith Term\n",
    "    a=np.array(PartitionedData[i]['adjcp'])\n",
    "    myPortfolio.ChangePricesTo(a)\n",
    "  # Get NetWorth and store in list\n",
    "    \n",
    "    NetWorthAfterEachTrade.append(myPortfolio.CalculateNetWorth())\n",
    "    \n",
    "  # Check if you need to rebalance Portfolio's Today\n",
    "    if i%T==0:\n",
    "        myPortfolio.RebalancePortFolio(GetMomentumBasedPriority(PartitionedData, DateToIndex,list(DateToIndex.keys())[i]))\n",
    "        \n",
    "  # If so, do it by Calling first the GetMomentumBasedPriority function and then passing it to the rebalance function\n",
    "\n",
    "\n",
    "\n",
    "\n",
    "\n",
    "  "
   ]
  },
  {
   "cell_type": "markdown",
   "metadata": {
    "id": "rHB126bDE2Kn"
   },
   "source": [
    "##Moment of Truth\n",
    "\n",
    "Time to check, if your Program actually works!\n",
    "\n",
    "Plot the data you collected in various ways and see if what you did worked!\n",
    "\n",
    "Feel free to use whichever one of Matplotlib or Seaborn you want to.\n",
    "\n",
    "You should try changing the hyper-parameters to increase(/decrease) your performance!\n"
   ]
  },
  {
   "cell_type": "code",
   "execution_count": 9,
   "metadata": {
    "id": "Z3AVQq09FxYm"
   },
   "outputs": [],
   "source": [
    "def VizualizeData():\n",
    "    xpoints=np.array(range(N,len(list(DateToIndex.keys()))))\n",
    "    plt.plot(xpoints,NetWorthAfterEachTrade,'ro')\n",
    "    plt.show()\n",
    "\n",
    "\n",
    "\n",
    "\n",
    "\n",
    "\n",
    "\n",
    "  "
   ]
  },
  {
   "cell_type": "markdown",
   "metadata": {
    "id": "cZoWhY8X9BSR"
   },
   "source": [
    "You may use this cell to write about what results you got!"
   ]
  },
  {
   "cell_type": "code",
   "execution_count": 10,
   "metadata": {},
   "outputs": [
    {
     "data": {
      "image/png": "[encoded data removed]",
      "text/plain": [
       "<Figure size 432x288 with 1 Axes>"
      ]
     },
     "metadata": {
      "needs_background": "light"
     },
     "output_type": "display_data"
    }
   ],
   "source": [
    "VizualizeData()"
   ]
  },
  {
   "cell_type": "code",
   "execution_count": 11,
   "metadata": {},
   "outputs": [
    {
     "data": {
      "text/plain": [
       "[12.964285714285714,\n",
       " 19.33,\n",
       " 45.25,\n",
       " 46.91,\n",
       " 16.96,\n",
       " 76.52,\n",
       " 46.23462346234624,\n",
       " 23.92,\n",
       " 86.76,\n",
       " 24.13,\n",
       " 87.37,\n",
       " 15.2,\n",
       " 60.65,\n",
       " 31.35,\n",
       " 22.95,\n",
       " 63.75,\n",
       " 59.19,\n",
       " 31.0,\n",
       " 20.33,\n",
       " 13.265,\n",
       " 18.27,\n",
       " 62.8,\n",
       " 54.95,\n",
       " 45.2,\n",
       " 27.59,\n",
       " 13.36,\n",
       " 34.64,\n",
       " 25.55,\n",
       " 57.18,\n",
       " 81.64]"
      ]
     },
     "execution_count": 11,
     "metadata": {},
     "output_type": "execute_result"
    }
   ],
   "source": [
    "x,y=PartitionData()\n",
    "a=np.array(x[6]['adjcp'])\n",
    "a\n",
    "list(x[0]['adjcp'])"
   ]
  },
  {
   "cell_type": "code",
   "execution_count": 12,
   "metadata": {},
   "outputs": [
    {
     "name": "stdout",
     "output_type": "stream",
     "text": [
      "[13.51142857 19.95       46.17       46.08       17.11       76.66\n",
      " 45.15451545 23.5        88.78       24.71       86.82       14.91\n",
      " 60.05       29.25       22.72       63.56       58.5        30.53\n",
      " 20.52       13.36       18.16       62.35       54.3        44.53\n",
      " 27.14       13.455      32.48       26.84       56.52       81.63      ]\n"
     ]
    }
   ],
   "source": [
    "a=latest_prices(20090106)"
   ]
  },
  {
   "cell_type": "code",
   "execution_count": 13,
   "metadata": {},
   "outputs": [
    {
     "data": {
      "text/plain": [
       "'asd'"
      ]
     },
     "execution_count": 13,
     "metadata": {},
     "output_type": "execute_result"
    }
   ],
   "source": [
    "ag='asdfg'\n",
    "ag[0:3]"
   ]
  },
  {
   "cell_type": "code",
   "execution_count": 14,
   "metadata": {},
   "outputs": [
    {
     "data": {
      "text/html": [
       "<div>\n",
       "<style scoped>\n",
       "    .dataframe tbody tr th:only-of-type {\n",
       "        vertical-align: middle;\n",
       "    }\n",
       "\n",
       "    .dataframe tbody tr th {\n",
       "        vertical-align: top;\n",
       "    }\n",
       "\n",
       "    .dataframe thead th {\n",
       "        text-align: right;\n",
       "    }\n",
       "</style>\n",
       "<table border=\"1\" class=\"dataframe\">\n",
       "  <thead>\n",
       "    <tr style=\"text-align: right;\">\n",
       "      <th></th>\n",
       "      <th>ind</th>\n",
       "      <th>datadate</th>\n",
       "      <th>tic</th>\n",
       "      <th>adjcp</th>\n",
       "    </tr>\n",
       "  </thead>\n",
       "  <tbody>\n",
       "    <tr>\n",
       "      <th>30</th>\n",
       "      <td>30</td>\n",
       "      <td>20090105</td>\n",
       "      <td>AAPL</td>\n",
       "      <td>13.511429</td>\n",
       "    </tr>\n",
       "    <tr>\n",
       "      <th>31</th>\n",
       "      <td>31</td>\n",
       "      <td>20090105</td>\n",
       "      <td>AXP</td>\n",
       "      <td>19.950000</td>\n",
       "    </tr>\n",
       "    <tr>\n",
       "      <th>32</th>\n",
       "      <td>32</td>\n",
       "      <td>20090105</td>\n",
       "      <td>BA</td>\n",
       "      <td>46.170000</td>\n",
       "    </tr>\n",
       "    <tr>\n",
       "      <th>33</th>\n",
       "      <td>33</td>\n",
       "      <td>20090105</td>\n",
       "      <td>CAT</td>\n",
       "      <td>46.080000</td>\n",
       "    </tr>\n",
       "    <tr>\n",
       "      <th>34</th>\n",
       "      <td>34</td>\n",
       "      <td>20090105</td>\n",
       "      <td>CSCO</td>\n",
       "      <td>17.110000</td>\n",
       "    </tr>\n",
       "    <tr>\n",
       "      <th>35</th>\n",
       "      <td>35</td>\n",
       "      <td>20090105</td>\n",
       "      <td>CVX</td>\n",
       "      <td>76.660000</td>\n",
       "    </tr>\n",
       "    <tr>\n",
       "      <th>36</th>\n",
       "      <td>36</td>\n",
       "      <td>20090105</td>\n",
       "      <td>DD</td>\n",
       "      <td>45.154515</td>\n",
       "    </tr>\n",
       "    <tr>\n",
       "      <th>37</th>\n",
       "      <td>37</td>\n",
       "      <td>20090105</td>\n",
       "      <td>DIS</td>\n",
       "      <td>23.500000</td>\n",
       "    </tr>\n",
       "    <tr>\n",
       "      <th>38</th>\n",
       "      <td>38</td>\n",
       "      <td>20090105</td>\n",
       "      <td>GS</td>\n",
       "      <td>88.780000</td>\n",
       "    </tr>\n",
       "    <tr>\n",
       "      <th>39</th>\n",
       "      <td>39</td>\n",
       "      <td>20090105</td>\n",
       "      <td>HD</td>\n",
       "      <td>24.710000</td>\n",
       "    </tr>\n",
       "    <tr>\n",
       "      <th>40</th>\n",
       "      <td>40</td>\n",
       "      <td>20090105</td>\n",
       "      <td>IBM</td>\n",
       "      <td>86.820000</td>\n",
       "    </tr>\n",
       "    <tr>\n",
       "      <th>41</th>\n",
       "      <td>41</td>\n",
       "      <td>20090105</td>\n",
       "      <td>INTC</td>\n",
       "      <td>14.910000</td>\n",
       "    </tr>\n",
       "    <tr>\n",
       "      <th>42</th>\n",
       "      <td>42</td>\n",
       "      <td>20090105</td>\n",
       "      <td>JNJ</td>\n",
       "      <td>60.050000</td>\n",
       "    </tr>\n",
       "    <tr>\n",
       "      <th>43</th>\n",
       "      <td>43</td>\n",
       "      <td>20090105</td>\n",
       "      <td>JPM</td>\n",
       "      <td>29.250000</td>\n",
       "    </tr>\n",
       "    <tr>\n",
       "      <th>44</th>\n",
       "      <td>44</td>\n",
       "      <td>20090105</td>\n",
       "      <td>KO</td>\n",
       "      <td>22.720000</td>\n",
       "    </tr>\n",
       "    <tr>\n",
       "      <th>45</th>\n",
       "      <td>45</td>\n",
       "      <td>20090105</td>\n",
       "      <td>MCD</td>\n",
       "      <td>63.560000</td>\n",
       "    </tr>\n",
       "    <tr>\n",
       "      <th>46</th>\n",
       "      <td>46</td>\n",
       "      <td>20090105</td>\n",
       "      <td>MMM</td>\n",
       "      <td>58.500000</td>\n",
       "    </tr>\n",
       "    <tr>\n",
       "      <th>47</th>\n",
       "      <td>47</td>\n",
       "      <td>20090105</td>\n",
       "      <td>MRK</td>\n",
       "      <td>30.530000</td>\n",
       "    </tr>\n",
       "    <tr>\n",
       "      <th>48</th>\n",
       "      <td>48</td>\n",
       "      <td>20090105</td>\n",
       "      <td>MSFT</td>\n",
       "      <td>20.520000</td>\n",
       "    </tr>\n",
       "    <tr>\n",
       "      <th>49</th>\n",
       "      <td>49</td>\n",
       "      <td>20090105</td>\n",
       "      <td>NKE</td>\n",
       "      <td>13.360000</td>\n",
       "    </tr>\n",
       "    <tr>\n",
       "      <th>50</th>\n",
       "      <td>50</td>\n",
       "      <td>20090105</td>\n",
       "      <td>PFE</td>\n",
       "      <td>18.160000</td>\n",
       "    </tr>\n",
       "    <tr>\n",
       "      <th>51</th>\n",
       "      <td>51</td>\n",
       "      <td>20090105</td>\n",
       "      <td>PG</td>\n",
       "      <td>62.350000</td>\n",
       "    </tr>\n",
       "    <tr>\n",
       "      <th>52</th>\n",
       "      <td>52</td>\n",
       "      <td>20090105</td>\n",
       "      <td>RTX</td>\n",
       "      <td>54.300000</td>\n",
       "    </tr>\n",
       "    <tr>\n",
       "      <th>53</th>\n",
       "      <td>53</td>\n",
       "      <td>20090105</td>\n",
       "      <td>TRV</td>\n",
       "      <td>44.530000</td>\n",
       "    </tr>\n",
       "    <tr>\n",
       "      <th>54</th>\n",
       "      <td>54</td>\n",
       "      <td>20090105</td>\n",
       "      <td>UNH</td>\n",
       "      <td>27.140000</td>\n",
       "    </tr>\n",
       "    <tr>\n",
       "      <th>55</th>\n",
       "      <td>55</td>\n",
       "      <td>20090105</td>\n",
       "      <td>V</td>\n",
       "      <td>13.455000</td>\n",
       "    </tr>\n",
       "    <tr>\n",
       "      <th>56</th>\n",
       "      <td>56</td>\n",
       "      <td>20090105</td>\n",
       "      <td>VZ</td>\n",
       "      <td>32.480000</td>\n",
       "    </tr>\n",
       "    <tr>\n",
       "      <th>57</th>\n",
       "      <td>57</td>\n",
       "      <td>20090105</td>\n",
       "      <td>WBA</td>\n",
       "      <td>26.840000</td>\n",
       "    </tr>\n",
       "    <tr>\n",
       "      <th>58</th>\n",
       "      <td>58</td>\n",
       "      <td>20090105</td>\n",
       "      <td>WMT</td>\n",
       "      <td>56.520000</td>\n",
       "    </tr>\n",
       "    <tr>\n",
       "      <th>59</th>\n",
       "      <td>59</td>\n",
       "      <td>20090105</td>\n",
       "      <td>XOM</td>\n",
       "      <td>81.630000</td>\n",
       "    </tr>\n",
       "  </tbody>\n",
       "</table>\n",
       "</div>"
      ],
      "text/plain": [
       "    ind  datadate   tic      adjcp\n",
       "30   30  20090105  AAPL  13.511429\n",
       "31   31  20090105   AXP  19.950000\n",
       "32   32  20090105    BA  46.170000\n",
       "33   33  20090105   CAT  46.080000\n",
       "34   34  20090105  CSCO  17.110000\n",
       "35   35  20090105   CVX  76.660000\n",
       "36   36  20090105    DD  45.154515\n",
       "37   37  20090105   DIS  23.500000\n",
       "38   38  20090105    GS  88.780000\n",
       "39   39  20090105    HD  24.710000\n",
       "40   40  20090105   IBM  86.820000\n",
       "41   41  20090105  INTC  14.910000\n",
       "42   42  20090105   JNJ  60.050000\n",
       "43   43  20090105   JPM  29.250000\n",
       "44   44  20090105    KO  22.720000\n",
       "45   45  20090105   MCD  63.560000\n",
       "46   46  20090105   MMM  58.500000\n",
       "47   47  20090105   MRK  30.530000\n",
       "48   48  20090105  MSFT  20.520000\n",
       "49   49  20090105   NKE  13.360000\n",
       "50   50  20090105   PFE  18.160000\n",
       "51   51  20090105    PG  62.350000\n",
       "52   52  20090105   RTX  54.300000\n",
       "53   53  20090105   TRV  44.530000\n",
       "54   54  20090105   UNH  27.140000\n",
       "55   55  20090105     V  13.455000\n",
       "56   56  20090105    VZ  32.480000\n",
       "57   57  20090105   WBA  26.840000\n",
       "58   58  20090105   WMT  56.520000\n",
       "59   59  20090105   XOM  81.630000"
      ]
     },
     "execution_count": 14,
     "metadata": {},
     "output_type": "execute_result"
    }
   ],
   "source": [
    "x[1]"
   ]
  },
  {
   "cell_type": "code",
   "execution_count": null,
   "metadata": {},
   "outputs": [],
   "source": []
  }
 ],
 "metadata": {
  "colab": {
   "collapsed_sections": [],
   "name": "Momentum.ipynb",
   "provenance": []
  },
  "kernelspec": {
   "display_name": "Python 3 (ipykernel)",
   "language": "python",
   "name": "python3"
  },
  "language_info": {
   "codemirror_mode": {
    "name": "ipython",
    "version": 3
   },
   "file_extension": ".py",
   "mimetype": "text/x-python",
   "name": "python",
   "nbconvert_exporter": "python",
   "pygments_lexer": "ipython3",
   "version": "3.9.7"
  }
 },
 "nbformat": 4,
 "nbformat_minor": 1
}
