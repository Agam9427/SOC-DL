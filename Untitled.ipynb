{
 "cells": [
  {
   "cell_type": "code",
   "execution_count": 2,
   "id": "8b23254c",
   "metadata": {},
   "outputs": [
    {
     "name": "stdout",
     "output_type": "stream",
     "text": [
      "0    p\n",
      "1    a\n",
      "2    n\n",
      "3    d\n",
      "4    a\n",
      "5    s\n",
      "dtype: object\n",
      "0    p\n",
      "1    a\n",
      "2    n\n",
      "3    d\n",
      "4    a\n",
      "5    s\n",
      "dtype: object\n",
      "0    p\n",
      "1    a\n",
      "2    n\n",
      "dtype: object\n"
     ]
    }
   ],
   "source": [
    "#Creating a series from array\n",
    "\n",
    "import pandas as pd\n",
    "# as we are using array() \n",
    "import numpy as np\n",
    " \n",
    "data = np.array(['p','a','n','d','a','s'])\n",
    " \n",
    "ser1 = pd.Series(data)\n",
    "print(ser1)\n",
    "\n",
    "# Creating a series from Lists:\n",
    "list = ['p', 'a', 'n', 'd', 'a' ,'s']\n",
    "  \n",
    "ser2 = pd.Series(list)\n",
    "print(ser2)\n",
    "\n",
    "# Accessing Element from Series with Position \n",
    "print(ser2[:3])"
   ]
  },
  {
   "cell_type": "code",
   "execution_count": null,
   "id": "cf31052b",
   "metadata": {},
   "outputs": [],
   "source": []
  }
 ],
 "metadata": {
  "kernelspec": {
   "display_name": "Python 3 (ipykernel)",
   "language": "python",
   "name": "python3"
  },
  "language_info": {
   "codemirror_mode": {
    "name": "ipython",
    "version": 3
   },
   "file_extension": ".py",
   "mimetype": "text/x-python",
   "name": "python",
   "nbconvert_exporter": "python",
   "pygments_lexer": "ipython3",
   "version": "3.9.7"
  }
 },
 "nbformat": 4,
 "nbformat_minor": 5
}
