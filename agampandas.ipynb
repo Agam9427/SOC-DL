{
 "cells": [
  {
   "cell_type": "code",
   "execution_count": 1,
   "id": "7636da6a",
   "metadata": {},
   "outputs": [],
   "source": [
    "import numpy as np\n",
    "import pandas as pd"
   ]
  },
  {
   "cell_type": "code",
   "execution_count": 2,
   "id": "1e2c40f1",
   "metadata": {},
   "outputs": [],
   "source": [
    "dict1={\n",
    "    \"name\":[\"Agam\",\"Aastha\",\"Saksham\",\"Kirtan\"],\n",
    "    \"marks\":[33,98,97,96],\n",
    "    \"city\":[\"Raj\",\"Mars\",\"Amrica\",\"Goodquestion\"]\n",
    "}"
   ]
  },
  {
   "cell_type": "code",
   "execution_count": 3,
   "id": "9032f5af",
   "metadata": {},
   "outputs": [],
   "source": [
    "df = pd.DataFrame(dict1)"
   ]
  },
  {
   "cell_type": "markdown",
   "id": "c5e3de40",
   "metadata": {},
   "source": [
    "**DataFrame is equivalent to an excel sheet**"
   ]
  },
  {
   "cell_type": "code",
   "execution_count": 4,
   "id": "6fb3718d",
   "metadata": {},
   "outputs": [
    {
     "data": {
      "text/html": [
       "<div>\n",
       "<style scoped>\n",
       "    .dataframe tbody tr th:only-of-type {\n",
       "        vertical-align: middle;\n",
       "    }\n",
       "\n",
       "    .dataframe tbody tr th {\n",
       "        vertical-align: top;\n",
       "    }\n",
       "\n",
       "    .dataframe thead th {\n",
       "        text-align: right;\n",
       "    }\n",
       "</style>\n",
       "<table border=\"1\" class=\"dataframe\">\n",
       "  <thead>\n",
       "    <tr style=\"text-align: right;\">\n",
       "      <th></th>\n",
       "      <th>name</th>\n",
       "      <th>marks</th>\n",
       "      <th>city</th>\n",
       "    </tr>\n",
       "  </thead>\n",
       "  <tbody>\n",
       "    <tr>\n",
       "      <th>0</th>\n",
       "      <td>Agam</td>\n",
       "      <td>33</td>\n",
       "      <td>Raj</td>\n",
       "    </tr>\n",
       "    <tr>\n",
       "      <th>1</th>\n",
       "      <td>Aastha</td>\n",
       "      <td>98</td>\n",
       "      <td>Mars</td>\n",
       "    </tr>\n",
       "    <tr>\n",
       "      <th>2</th>\n",
       "      <td>Saksham</td>\n",
       "      <td>97</td>\n",
       "      <td>Amrica</td>\n",
       "    </tr>\n",
       "    <tr>\n",
       "      <th>3</th>\n",
       "      <td>Kirtan</td>\n",
       "      <td>96</td>\n",
       "      <td>Goodquestion</td>\n",
       "    </tr>\n",
       "  </tbody>\n",
       "</table>\n",
       "</div>"
      ],
      "text/plain": [
       "      name  marks          city\n",
       "0     Agam     33           Raj\n",
       "1   Aastha     98          Mars\n",
       "2  Saksham     97        Amrica\n",
       "3   Kirtan     96  Goodquestion"
      ]
     },
     "execution_count": 4,
     "metadata": {},
     "output_type": "execute_result"
    }
   ],
   "source": [
    "df"
   ]
  },
  {
   "cell_type": "code",
   "execution_count": 5,
   "id": "a2243d6b",
   "metadata": {},
   "outputs": [],
   "source": [
    "df.to_csv('Hi.csv')"
   ]
  },
  {
   "cell_type": "code",
   "execution_count": 6,
   "id": "138c3dfb",
   "metadata": {},
   "outputs": [],
   "source": [
    "df = pd.DataFrame(dict1,index=[x for x in range(2,6)])"
   ]
  },
  {
   "cell_type": "code",
   "execution_count": 7,
   "id": "e8fc5325",
   "metadata": {},
   "outputs": [
    {
     "data": {
      "text/html": [
       "<div>\n",
       "<style scoped>\n",
       "    .dataframe tbody tr th:only-of-type {\n",
       "        vertical-align: middle;\n",
       "    }\n",
       "\n",
       "    .dataframe tbody tr th {\n",
       "        vertical-align: top;\n",
       "    }\n",
       "\n",
       "    .dataframe thead th {\n",
       "        text-align: right;\n",
       "    }\n",
       "</style>\n",
       "<table border=\"1\" class=\"dataframe\">\n",
       "  <thead>\n",
       "    <tr style=\"text-align: right;\">\n",
       "      <th></th>\n",
       "      <th>name</th>\n",
       "      <th>marks</th>\n",
       "      <th>city</th>\n",
       "    </tr>\n",
       "  </thead>\n",
       "  <tbody>\n",
       "    <tr>\n",
       "      <th>2</th>\n",
       "      <td>Agam</td>\n",
       "      <td>33</td>\n",
       "      <td>Raj</td>\n",
       "    </tr>\n",
       "    <tr>\n",
       "      <th>3</th>\n",
       "      <td>Aastha</td>\n",
       "      <td>98</td>\n",
       "      <td>Mars</td>\n",
       "    </tr>\n",
       "    <tr>\n",
       "      <th>4</th>\n",
       "      <td>Saksham</td>\n",
       "      <td>97</td>\n",
       "      <td>Amrica</td>\n",
       "    </tr>\n",
       "    <tr>\n",
       "      <th>5</th>\n",
       "      <td>Kirtan</td>\n",
       "      <td>96</td>\n",
       "      <td>Goodquestion</td>\n",
       "    </tr>\n",
       "  </tbody>\n",
       "</table>\n",
       "</div>"
      ],
      "text/plain": [
       "      name  marks          city\n",
       "2     Agam     33           Raj\n",
       "3   Aastha     98          Mars\n",
       "4  Saksham     97        Amrica\n",
       "5   Kirtan     96  Goodquestion"
      ]
     },
     "execution_count": 7,
     "metadata": {},
     "output_type": "execute_result"
    }
   ],
   "source": [
    "df"
   ]
  },
  {
   "cell_type": "code",
   "execution_count": 8,
   "id": "5c317ca4",
   "metadata": {},
   "outputs": [],
   "source": [
    "df = pd.DataFrame(dict1,index=None)"
   ]
  },
  {
   "cell_type": "code",
   "execution_count": 9,
   "id": "ebe042b2",
   "metadata": {},
   "outputs": [
    {
     "data": {
      "text/html": [
       "<div>\n",
       "<style scoped>\n",
       "    .dataframe tbody tr th:only-of-type {\n",
       "        vertical-align: middle;\n",
       "    }\n",
       "\n",
       "    .dataframe tbody tr th {\n",
       "        vertical-align: top;\n",
       "    }\n",
       "\n",
       "    .dataframe thead th {\n",
       "        text-align: right;\n",
       "    }\n",
       "</style>\n",
       "<table border=\"1\" class=\"dataframe\">\n",
       "  <thead>\n",
       "    <tr style=\"text-align: right;\">\n",
       "      <th></th>\n",
       "      <th>name</th>\n",
       "      <th>marks</th>\n",
       "      <th>city</th>\n",
       "    </tr>\n",
       "  </thead>\n",
       "  <tbody>\n",
       "    <tr>\n",
       "      <th>0</th>\n",
       "      <td>Agam</td>\n",
       "      <td>33</td>\n",
       "      <td>Raj</td>\n",
       "    </tr>\n",
       "    <tr>\n",
       "      <th>1</th>\n",
       "      <td>Aastha</td>\n",
       "      <td>98</td>\n",
       "      <td>Mars</td>\n",
       "    </tr>\n",
       "    <tr>\n",
       "      <th>2</th>\n",
       "      <td>Saksham</td>\n",
       "      <td>97</td>\n",
       "      <td>Amrica</td>\n",
       "    </tr>\n",
       "    <tr>\n",
       "      <th>3</th>\n",
       "      <td>Kirtan</td>\n",
       "      <td>96</td>\n",
       "      <td>Goodquestion</td>\n",
       "    </tr>\n",
       "  </tbody>\n",
       "</table>\n",
       "</div>"
      ],
      "text/plain": [
       "      name  marks          city\n",
       "0     Agam     33           Raj\n",
       "1   Aastha     98          Mars\n",
       "2  Saksham     97        Amrica\n",
       "3   Kirtan     96  Goodquestion"
      ]
     },
     "execution_count": 9,
     "metadata": {},
     "output_type": "execute_result"
    }
   ],
   "source": [
    "df"
   ]
  },
  {
   "cell_type": "code",
   "execution_count": 10,
   "id": "8386e0a2",
   "metadata": {},
   "outputs": [],
   "source": [
    "df.to_csv('Without_index.csv',index=False)"
   ]
  },
  {
   "cell_type": "code",
   "execution_count": 11,
   "id": "9e14a0fc",
   "metadata": {},
   "outputs": [
    {
     "data": {
      "text/html": [
       "<div>\n",
       "<style scoped>\n",
       "    .dataframe tbody tr th:only-of-type {\n",
       "        vertical-align: middle;\n",
       "    }\n",
       "\n",
       "    .dataframe tbody tr th {\n",
       "        vertical-align: top;\n",
       "    }\n",
       "\n",
       "    .dataframe thead th {\n",
       "        text-align: right;\n",
       "    }\n",
       "</style>\n",
       "<table border=\"1\" class=\"dataframe\">\n",
       "  <thead>\n",
       "    <tr style=\"text-align: right;\">\n",
       "      <th></th>\n",
       "      <th>name</th>\n",
       "      <th>marks</th>\n",
       "      <th>city</th>\n",
       "    </tr>\n",
       "  </thead>\n",
       "  <tbody>\n",
       "    <tr>\n",
       "      <th>0</th>\n",
       "      <td>Agam</td>\n",
       "      <td>33</td>\n",
       "      <td>Raj</td>\n",
       "    </tr>\n",
       "    <tr>\n",
       "      <th>1</th>\n",
       "      <td>Aastha</td>\n",
       "      <td>98</td>\n",
       "      <td>Mars</td>\n",
       "    </tr>\n",
       "  </tbody>\n",
       "</table>\n",
       "</div>"
      ],
      "text/plain": [
       "     name  marks  city\n",
       "0    Agam     33   Raj\n",
       "1  Aastha     98  Mars"
      ]
     },
     "execution_count": 11,
     "metadata": {},
     "output_type": "execute_result"
    }
   ],
   "source": [
    "df.head(2)"
   ]
  },
  {
   "cell_type": "code",
   "execution_count": 12,
   "id": "5f2090e2",
   "metadata": {},
   "outputs": [
    {
     "data": {
      "text/html": [
       "<div>\n",
       "<style scoped>\n",
       "    .dataframe tbody tr th:only-of-type {\n",
       "        vertical-align: middle;\n",
       "    }\n",
       "\n",
       "    .dataframe tbody tr th {\n",
       "        vertical-align: top;\n",
       "    }\n",
       "\n",
       "    .dataframe thead th {\n",
       "        text-align: right;\n",
       "    }\n",
       "</style>\n",
       "<table border=\"1\" class=\"dataframe\">\n",
       "  <thead>\n",
       "    <tr style=\"text-align: right;\">\n",
       "      <th></th>\n",
       "      <th>name</th>\n",
       "      <th>marks</th>\n",
       "      <th>city</th>\n",
       "    </tr>\n",
       "  </thead>\n",
       "  <tbody>\n",
       "    <tr>\n",
       "      <th>2</th>\n",
       "      <td>Saksham</td>\n",
       "      <td>97</td>\n",
       "      <td>Amrica</td>\n",
       "    </tr>\n",
       "    <tr>\n",
       "      <th>3</th>\n",
       "      <td>Kirtan</td>\n",
       "      <td>96</td>\n",
       "      <td>Goodquestion</td>\n",
       "    </tr>\n",
       "  </tbody>\n",
       "</table>\n",
       "</div>"
      ],
      "text/plain": [
       "      name  marks          city\n",
       "2  Saksham     97        Amrica\n",
       "3   Kirtan     96  Goodquestion"
      ]
     },
     "execution_count": 12,
     "metadata": {},
     "output_type": "execute_result"
    }
   ],
   "source": [
    "df.tail(2)"
   ]
  },
  {
   "cell_type": "code",
   "execution_count": 13,
   "id": "f3e809ea",
   "metadata": {},
   "outputs": [
    {
     "data": {
      "text/html": [
       "<div>\n",
       "<style scoped>\n",
       "    .dataframe tbody tr th:only-of-type {\n",
       "        vertical-align: middle;\n",
       "    }\n",
       "\n",
       "    .dataframe tbody tr th {\n",
       "        vertical-align: top;\n",
       "    }\n",
       "\n",
       "    .dataframe thead th {\n",
       "        text-align: right;\n",
       "    }\n",
       "</style>\n",
       "<table border=\"1\" class=\"dataframe\">\n",
       "  <thead>\n",
       "    <tr style=\"text-align: right;\">\n",
       "      <th></th>\n",
       "      <th>marks</th>\n",
       "    </tr>\n",
       "  </thead>\n",
       "  <tbody>\n",
       "    <tr>\n",
       "      <th>count</th>\n",
       "      <td>4.000000</td>\n",
       "    </tr>\n",
       "    <tr>\n",
       "      <th>mean</th>\n",
       "      <td>81.000000</td>\n",
       "    </tr>\n",
       "    <tr>\n",
       "      <th>std</th>\n",
       "      <td>32.010415</td>\n",
       "    </tr>\n",
       "    <tr>\n",
       "      <th>min</th>\n",
       "      <td>33.000000</td>\n",
       "    </tr>\n",
       "    <tr>\n",
       "      <th>25%</th>\n",
       "      <td>80.250000</td>\n",
       "    </tr>\n",
       "    <tr>\n",
       "      <th>50%</th>\n",
       "      <td>96.500000</td>\n",
       "    </tr>\n",
       "    <tr>\n",
       "      <th>75%</th>\n",
       "      <td>97.250000</td>\n",
       "    </tr>\n",
       "    <tr>\n",
       "      <th>max</th>\n",
       "      <td>98.000000</td>\n",
       "    </tr>\n",
       "  </tbody>\n",
       "</table>\n",
       "</div>"
      ],
      "text/plain": [
       "           marks\n",
       "count   4.000000\n",
       "mean   81.000000\n",
       "std    32.010415\n",
       "min    33.000000\n",
       "25%    80.250000\n",
       "50%    96.500000\n",
       "75%    97.250000\n",
       "max    98.000000"
      ]
     },
     "execution_count": 13,
     "metadata": {},
     "output_type": "execute_result"
    }
   ],
   "source": [
    "df.describe()"
   ]
  },
  {
   "cell_type": "code",
   "execution_count": 14,
   "id": "ac972993",
   "metadata": {},
   "outputs": [],
   "source": [
    "agam = pd.read_csv(\"Hi.csv\")\n",
    "from numbers_parser import Document\n",
    "agam2=Document(\"Agam2.numbers\")"
   ]
  },
  {
   "cell_type": "code",
   "execution_count": 15,
   "id": "f9f58598",
   "metadata": {},
   "outputs": [
    {
     "data": {
      "text/html": [
       "<div>\n",
       "<style scoped>\n",
       "    .dataframe tbody tr th:only-of-type {\n",
       "        vertical-align: middle;\n",
       "    }\n",
       "\n",
       "    .dataframe tbody tr th {\n",
       "        vertical-align: top;\n",
       "    }\n",
       "\n",
       "    .dataframe thead th {\n",
       "        text-align: right;\n",
       "    }\n",
       "</style>\n",
       "<table border=\"1\" class=\"dataframe\">\n",
       "  <thead>\n",
       "    <tr style=\"text-align: right;\">\n",
       "      <th></th>\n",
       "      <th>Unnamed: 0</th>\n",
       "      <th>name</th>\n",
       "      <th>marks</th>\n",
       "      <th>city</th>\n",
       "    </tr>\n",
       "  </thead>\n",
       "  <tbody>\n",
       "    <tr>\n",
       "      <th>0</th>\n",
       "      <td>0</td>\n",
       "      <td>Agam</td>\n",
       "      <td>33</td>\n",
       "      <td>Raj</td>\n",
       "    </tr>\n",
       "    <tr>\n",
       "      <th>1</th>\n",
       "      <td>1</td>\n",
       "      <td>Aastha</td>\n",
       "      <td>98</td>\n",
       "      <td>Mars</td>\n",
       "    </tr>\n",
       "    <tr>\n",
       "      <th>2</th>\n",
       "      <td>2</td>\n",
       "      <td>Saksham</td>\n",
       "      <td>97</td>\n",
       "      <td>Amrica</td>\n",
       "    </tr>\n",
       "    <tr>\n",
       "      <th>3</th>\n",
       "      <td>3</td>\n",
       "      <td>Kirtan</td>\n",
       "      <td>96</td>\n",
       "      <td>Goodquestion</td>\n",
       "    </tr>\n",
       "  </tbody>\n",
       "</table>\n",
       "</div>"
      ],
      "text/plain": [
       "   Unnamed: 0     name  marks          city\n",
       "0           0     Agam     33           Raj\n",
       "1           1   Aastha     98          Mars\n",
       "2           2  Saksham     97        Amrica\n",
       "3           3   Kirtan     96  Goodquestion"
      ]
     },
     "execution_count": 15,
     "metadata": {},
     "output_type": "execute_result"
    }
   ],
   "source": [
    "agam"
   ]
  },
  {
   "cell_type": "code",
   "execution_count": 16,
   "id": "c01f9154",
   "metadata": {},
   "outputs": [
    {
     "data": {
      "text/plain": [
       "0    33\n",
       "1    98\n",
       "2    97\n",
       "3    96\n",
       "Name: marks, dtype: int64"
      ]
     },
     "execution_count": 16,
     "metadata": {},
     "output_type": "execute_result"
    }
   ],
   "source": [
    "agam['marks']"
   ]
  },
  {
   "cell_type": "code",
   "execution_count": 17,
   "id": "74495ca1",
   "metadata": {},
   "outputs": [
    {
     "data": {
      "text/plain": [
       "33"
      ]
     },
     "execution_count": 17,
     "metadata": {},
     "output_type": "execute_result"
    }
   ],
   "source": [
    "agam['marks'][0]"
   ]
  },
  {
   "cell_type": "code",
   "execution_count": 18,
   "id": "dcbf727b",
   "metadata": {},
   "outputs": [
    {
     "name": "stderr",
     "output_type": "stream",
     "text": [
      "/var/folders/ct/kcvr8z_n361cb4kp_z0mhbjm0000gn/T/ipykernel_35681/74522859.py:1: SettingWithCopyWarning: \n",
      "A value is trying to be set on a copy of a slice from a DataFrame\n",
      "\n",
      "See the caveats in the documentation: https://pandas.pydata.org/pandas-docs/stable/user_guide/indexing.html#returning-a-view-versus-a-copy\n"
     ]
    }
   ],
   "source": [
    "agam['marks'][0]=20"
   ]
  },
  {
   "cell_type": "code",
   "execution_count": 19,
   "id": "515981f8",
   "metadata": {},
   "outputs": [
    {
     "data": {
      "text/plain": [
       "20"
      ]
     },
     "execution_count": 19,
     "metadata": {},
     "output_type": "execute_result"
    }
   ],
   "source": [
    "agam['marks'][0]"
   ]
  },
  {
   "cell_type": "code",
   "execution_count": 20,
   "id": "22555d8e",
   "metadata": {},
   "outputs": [],
   "source": [
    "agam.to_csv(\"Part2.csv\")"
   ]
  },
  {
   "cell_type": "code",
   "execution_count": 21,
   "id": "7122b469",
   "metadata": {},
   "outputs": [],
   "source": [
    "agam.index=['a','b','c','d']"
   ]
  },
  {
   "cell_type": "code",
   "execution_count": 22,
   "id": "8317c65c",
   "metadata": {},
   "outputs": [
    {
     "data": {
      "text/html": [
       "<div>\n",
       "<style scoped>\n",
       "    .dataframe tbody tr th:only-of-type {\n",
       "        vertical-align: middle;\n",
       "    }\n",
       "\n",
       "    .dataframe tbody tr th {\n",
       "        vertical-align: top;\n",
       "    }\n",
       "\n",
       "    .dataframe thead th {\n",
       "        text-align: right;\n",
       "    }\n",
       "</style>\n",
       "<table border=\"1\" class=\"dataframe\">\n",
       "  <thead>\n",
       "    <tr style=\"text-align: right;\">\n",
       "      <th></th>\n",
       "      <th>Unnamed: 0</th>\n",
       "      <th>name</th>\n",
       "      <th>marks</th>\n",
       "      <th>city</th>\n",
       "    </tr>\n",
       "  </thead>\n",
       "  <tbody>\n",
       "    <tr>\n",
       "      <th>a</th>\n",
       "      <td>0</td>\n",
       "      <td>Agam</td>\n",
       "      <td>20</td>\n",
       "      <td>Raj</td>\n",
       "    </tr>\n",
       "    <tr>\n",
       "      <th>b</th>\n",
       "      <td>1</td>\n",
       "      <td>Aastha</td>\n",
       "      <td>98</td>\n",
       "      <td>Mars</td>\n",
       "    </tr>\n",
       "    <tr>\n",
       "      <th>c</th>\n",
       "      <td>2</td>\n",
       "      <td>Saksham</td>\n",
       "      <td>97</td>\n",
       "      <td>Amrica</td>\n",
       "    </tr>\n",
       "    <tr>\n",
       "      <th>d</th>\n",
       "      <td>3</td>\n",
       "      <td>Kirtan</td>\n",
       "      <td>96</td>\n",
       "      <td>Goodquestion</td>\n",
       "    </tr>\n",
       "  </tbody>\n",
       "</table>\n",
       "</div>"
      ],
      "text/plain": [
       "   Unnamed: 0     name  marks          city\n",
       "a           0     Agam     20           Raj\n",
       "b           1   Aastha     98          Mars\n",
       "c           2  Saksham     97        Amrica\n",
       "d           3   Kirtan     96  Goodquestion"
      ]
     },
     "execution_count": 22,
     "metadata": {},
     "output_type": "execute_result"
    }
   ],
   "source": [
    "agam"
   ]
  },
  {
   "cell_type": "code",
   "execution_count": 23,
   "id": "ce1566c8",
   "metadata": {},
   "outputs": [
    {
     "name": "stdout",
     "output_type": "stream",
     "text": [
      "   calories  duration\n",
      "a       420        50\n",
      "b       380        40\n",
      "c       390        45\n"
     ]
    }
   ],
   "source": [
    "import pandas as pd\n",
    "\n",
    "data = {\n",
    "  \"calories\": [420, 380, 390],\n",
    "  \"duration\": [50, 40, 45]\n",
    "}\n",
    "df = pd.DataFrame(data)\n",
    "df.index=[a for a in\"abc\"]\n",
    "print(df) "
   ]
  },
  {
   "cell_type": "code",
   "execution_count": 24,
   "id": "ab913d38",
   "metadata": {},
   "outputs": [
    {
     "name": "stdout",
     "output_type": "stream",
     "text": [
      "0    p\n",
      "1    a\n",
      "2    n\n",
      "3    d\n",
      "4    a\n",
      "5    s\n",
      "dtype: object\n",
      "0    p\n",
      "1    a\n",
      "2    n\n",
      "3    d\n",
      "4    a\n",
      "5    s\n",
      "dtype: object\n",
      "0    p\n",
      "1    a\n",
      "2    n\n",
      "dtype: object\n"
     ]
    }
   ],
   "source": [
    "#Creating a series from array\n",
    "\n",
    "import pandas as pd\n",
    "# as we are using array() \n",
    "import numpy as np\n",
    " \n",
    "data = np.array(['p','a','n','d','a','s'])\n",
    " \n",
    "ser1 = pd.Series(data)\n",
    "print(ser1)\n",
    "\n",
    "# Creating a series from Lists:\n",
    "list = ['p', 'a', 'n', 'd', 'a' ,'s']\n",
    "  \n",
    "ser2 = pd.Series(list)\n",
    "print(ser2)\n",
    "\n",
    "# Accessing Element from Series with Position \n",
    "print(ser2[:3])"
   ]
  },
  {
   "cell_type": "code",
   "execution_count": 25,
   "id": "966b6b24",
   "metadata": {},
   "outputs": [
    {
     "name": "stdout",
     "output_type": "stream",
     "text": [
      "0        Indian\n",
      "1     Institute\n",
      "2            Of\n",
      "3    Technology\n",
      "4        Bombay\n",
      "dtype: object\n"
     ]
    }
   ],
   "source": [
    "data=[\"Indian\",\"Institute\",\"Of\",\"Technology\",\"Bombay\"]\n",
    "\n",
    "ser3=pd.Series(data)\n",
    "print(ser3)\n"
   ]
  },
  {
   "cell_type": "code",
   "execution_count": 26,
   "id": "92bb8970",
   "metadata": {},
   "outputs": [
    {
     "name": "stdout",
     "output_type": "stream",
     "text": [
      "a        Indian\n",
      "b     Institute\n",
      "c            Of\n",
      "d    Technology\n",
      "e        Bombay\n",
      "dtype: object\n",
      "Technology\n"
     ]
    }
   ],
   "source": [
    "ser4=pd.Series(data,index=[\"a\",\"b\",\"c\",\"d\",\"e\"])\n",
    "print(ser4)\n",
    "\n",
    "#Label can be used to access a specified value\n",
    "\n",
    "print(ser4[\"d\"])"
   ]
  },
  {
   "cell_type": "code",
   "execution_count": 27,
   "id": "2f709809",
   "metadata": {},
   "outputs": [
    {
     "name": "stdout",
     "output_type": "stream",
     "text": [
      "day1    420\n",
      "day2    380\n",
      "day3    390\n",
      "dtype: int64\n"
     ]
    }
   ],
   "source": [
    "calories = {\"day1\": 420, \"day2\": 380, \"day3\": 390}\n",
    "\n",
    "myvar = pd.Series(calories)\n",
    "\n",
    "print(myvar)"
   ]
  },
  {
   "cell_type": "code",
   "execution_count": 31,
   "id": "429b5abe",
   "metadata": {},
   "outputs": [
    {
     "name": "stdout",
     "output_type": "stream",
     "text": [
      "calories    420\n",
      "duration     50\n",
      "Name: 0, dtype: int64\n",
      "   calories  duration\n",
      "0       420        50\n",
      "1       380        40\n"
     ]
    }
   ],
   "source": [
    "import pandas as pd\n",
    "data = {\n",
    "  \"calories\": [420, 380, 390],\n",
    "  \"duration\": [50, 40, 45]\n",
    "}\n",
    "df = pd.DataFrame(data)\n",
    "\n",
    "#Return row 0\n",
    "print(df.loc[0])\n",
    "\n",
    "#Return row 0 and 1\n",
    "print(df.loc[[0,1]])"
   ]
  },
  {
   "cell_type": "code",
   "execution_count": 32,
   "id": "4998be6c",
   "metadata": {},
   "outputs": [
    {
     "name": "stdout",
     "output_type": "stream",
     "text": [
      "calories    420\n",
      "duration     50\n",
      "Name: day1, dtype: int64\n"
     ]
    }
   ],
   "source": [
    "df=pd.DataFrame(data,index=[\"day1\",\"day2\",\"day3\"])\n",
    "print(df.loc[\"day1\"])"
   ]
  },
  {
   "cell_type": "code",
   "execution_count": 33,
   "id": "c4ca9685",
   "metadata": {},
   "outputs": [
    {
     "name": "stdout",
     "output_type": "stream",
     "text": [
      "0     5\n",
      "1     9\n",
      "2     8\n",
      "3     5\n",
      "4     7\n",
      "5     8\n",
      "6     1\n",
      "7     2\n",
      "8     3\n",
      "9     4\n",
      "10    5\n",
      "11    6\n",
      "12    7\n",
      "13    8\n",
      "dtype: int64\n",
      "5.571428571428571\n",
      "2.4405007592795287\n",
      "5.956043956043955\n"
     ]
    }
   ],
   "source": [
    "# Finding the mean and Standard Deviation of a Pandas Series.\n",
    "\n",
    "import pandas as pd\n",
    "  \n",
    "# creating a series\n",
    "s = pd.Series(data = [5, 9, 8, 5, 7, 8, 1, 2, 3,\n",
    "                      4, 5, 6, 7, 8])\n",
    "\n",
    "# displaying the series\n",
    "print(s)\n",
    "# finding the mean\n",
    "print(s.mean())\n",
    "# finding the Standard deviation\n",
    "print(s.std())\n",
    "# finding the variance\n",
    "print(s.var())\n",
    "\n"
   ]
  },
  {
   "cell_type": "code",
   "execution_count": 34,
   "id": "be3d206b",
   "metadata": {},
   "outputs": [
    {
     "name": "stdout",
     "output_type": "stream",
     "text": [
      "    Cost  Quantity\n",
      "0    114        10\n",
      "1    345        20\n",
      "2  15778        50\n",
      "3   5626        30\n",
      "Cost        5465.75\n",
      "Quantity      27.50\n",
      "dtype: float64\n",
      "Cost        7331.018318\n",
      "Quantity      17.078251\n",
      "dtype: float64\n",
      "Cost        5.374383e+07\n",
      "Quantity    2.916667e+02\n",
      "dtype: float64\n"
     ]
    }
   ],
   "source": [
    "#Finding the mean and Standard Deviation of a Pandas DataFrame.\n",
    "\n",
    "import pandas as pd\n",
    "\n",
    "# creating a dataframe \n",
    "df = pd.DataFrame({'Cost':[114, 345, 15778, 5626],\n",
    "                   'Quantity':[10, 20, 50,30]})\n",
    "  \n",
    "# displaying the DataFrame\n",
    "print(df)\n",
    "# finding the mean\n",
    "print(df.mean())\n",
    "# finding the Standard deviation\n",
    "print(df.std())\n",
    "# finding the variance\n",
    "print(df.var())"
   ]
  },
  {
   "cell_type": "code",
   "execution_count": null,
   "id": "26303226",
   "metadata": {},
   "outputs": [],
   "source": []
  }
 ],
 "metadata": {
  "kernelspec": {
   "display_name": "Python 3 (ipykernel)",
   "language": "python",
   "name": "python3"
  },
  "language_info": {
   "codemirror_mode": {
    "name": "ipython",
    "version": 3
   },
   "file_extension": ".py",
   "mimetype": "text/x-python",
   "name": "python",
   "nbconvert_exporter": "python",
   "pygments_lexer": "ipython3",
   "version": "3.9.7"
  }
 },
 "nbformat": 4,
 "nbformat_minor": 5
}
