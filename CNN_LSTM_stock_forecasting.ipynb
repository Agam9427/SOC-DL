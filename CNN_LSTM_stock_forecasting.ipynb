{
  "nbformat": 4,
  "nbformat_minor": 0,
  "metadata": {
    "colab": {
      "name": "CNN-LSTM stock forecasting.ipynb",
      "provenance": [],
      "collapsed_sections": [],
      "authorship_tag": "ABX9TyPRc4k/3/1C5CeLu4BtPpU9",
      "include_colab_link": true
    },
    "kernelspec": {
      "name": "python3",
      "display_name": "Python 3"
    },
    "language_info": {
      "name": "python"
    }
  },
  "cells": [
    {
      "cell_type": "markdown",
      "metadata": {
        "id": "view-in-github",
        "colab_type": "text"
      },
      "source": [
        "<a href=\"https://colab.research.google.com/github/Agam9427/SOC-DL/blob/main/CNN_LSTM_stock_forecasting.ipynb\" target=\"_parent\"><img src=\"https://colab.research.google.com/assets/colab-badge.svg\" alt=\"Open In Colab\"/></a>"
      ]
    },
    {
      "cell_type": "code",
      "execution_count": 1,
      "metadata": {
        "id": "9jAC9UsaUvzE"
      },
      "outputs": [],
      "source": [
        "import tensorflow as tf\n",
        "from tensorflow import keras\n",
        "from tensorflow.keras import layers\n",
        "import numpy as np\n",
        "import pandas as pd\n",
        "import matplotlib.pyplot as plt\n",
        "train_ratio=0.85"
      ]
    },
    {
      "cell_type": "code",
      "source": [
        "#Reading Data\n",
        "data = pd.read_csv('https://raw.githubusercontent.com/Agam9427/SOC-DL/main/AAPL.csv')\n",
        "data.head()"
      ],
      "metadata": {
        "id": "l-AasMfhU5lj",
        "colab": {
          "base_uri": "https://localhost:8080/",
          "height": 206
        },
        "outputId": "1efe8aa9-779a-420d-b79f-8f688f6ccd27"
      },
      "execution_count": 2,
      "outputs": [
        {
          "output_type": "execute_result",
          "data": {
            "text/plain": [
              "         Date       Open       High        Low      Close  Adj Close  \\\n",
              "0  2017-07-13  36.375000  37.122501  36.360001  36.942501  34.972214   \n",
              "1  2017-07-14  36.992500  37.332500  36.832500  37.259998  35.272774   \n",
              "2  2017-07-17  37.205002  37.724998  37.142502  37.389999  35.395847   \n",
              "3  2017-07-18  37.299999  37.532501  37.167500  37.520000  35.518921   \n",
              "4  2017-07-19  37.619999  37.855000  37.487499  37.755001  35.741379   \n",
              "\n",
              "      Volume  \n",
              "0  100797600  \n",
              "1   80528400  \n",
              "2   95174000  \n",
              "3   71475200  \n",
              "4   83692000  "
            ],
            "text/html": [
              "\n",
              "  <div id=\"df-a06c1a29-a140-459d-af4e-971e7ba9bf66\">\n",
              "    <div class=\"colab-df-container\">\n",
              "      <div>\n",
              "<style scoped>\n",
              "    .dataframe tbody tr th:only-of-type {\n",
              "        vertical-align: middle;\n",
              "    }\n",
              "\n",
              "    .dataframe tbody tr th {\n",
              "        vertical-align: top;\n",
              "    }\n",
              "\n",
              "    .dataframe thead th {\n",
              "        text-align: right;\n",
              "    }\n",
              "</style>\n",
              "<table border=\"1\" class=\"dataframe\">\n",
              "  <thead>\n",
              "    <tr style=\"text-align: right;\">\n",
              "      <th></th>\n",
              "      <th>Date</th>\n",
              "      <th>Open</th>\n",
              "      <th>High</th>\n",
              "      <th>Low</th>\n",
              "      <th>Close</th>\n",
              "      <th>Adj Close</th>\n",
              "      <th>Volume</th>\n",
              "    </tr>\n",
              "  </thead>\n",
              "  <tbody>\n",
              "    <tr>\n",
              "      <th>0</th>\n",
              "      <td>2017-07-13</td>\n",
              "      <td>36.375000</td>\n",
              "      <td>37.122501</td>\n",
              "      <td>36.360001</td>\n",
              "      <td>36.942501</td>\n",
              "      <td>34.972214</td>\n",
              "      <td>100797600</td>\n",
              "    </tr>\n",
              "    <tr>\n",
              "      <th>1</th>\n",
              "      <td>2017-07-14</td>\n",
              "      <td>36.992500</td>\n",
              "      <td>37.332500</td>\n",
              "      <td>36.832500</td>\n",
              "      <td>37.259998</td>\n",
              "      <td>35.272774</td>\n",
              "      <td>80528400</td>\n",
              "    </tr>\n",
              "    <tr>\n",
              "      <th>2</th>\n",
              "      <td>2017-07-17</td>\n",
              "      <td>37.205002</td>\n",
              "      <td>37.724998</td>\n",
              "      <td>37.142502</td>\n",
              "      <td>37.389999</td>\n",
              "      <td>35.395847</td>\n",
              "      <td>95174000</td>\n",
              "    </tr>\n",
              "    <tr>\n",
              "      <th>3</th>\n",
              "      <td>2017-07-18</td>\n",
              "      <td>37.299999</td>\n",
              "      <td>37.532501</td>\n",
              "      <td>37.167500</td>\n",
              "      <td>37.520000</td>\n",
              "      <td>35.518921</td>\n",
              "      <td>71475200</td>\n",
              "    </tr>\n",
              "    <tr>\n",
              "      <th>4</th>\n",
              "      <td>2017-07-19</td>\n",
              "      <td>37.619999</td>\n",
              "      <td>37.855000</td>\n",
              "      <td>37.487499</td>\n",
              "      <td>37.755001</td>\n",
              "      <td>35.741379</td>\n",
              "      <td>83692000</td>\n",
              "    </tr>\n",
              "  </tbody>\n",
              "</table>\n",
              "</div>\n",
              "      <button class=\"colab-df-convert\" onclick=\"convertToInteractive('df-a06c1a29-a140-459d-af4e-971e7ba9bf66')\"\n",
              "              title=\"Convert this dataframe to an interactive table.\"\n",
              "              style=\"display:none;\">\n",
              "        \n",
              "  <svg xmlns=\"http://www.w3.org/2000/svg\" height=\"24px\"viewBox=\"0 0 24 24\"\n",
              "       width=\"24px\">\n",
              "    <path d=\"M0 0h24v24H0V0z\" fill=\"none\"/>\n",
              "    <path d=\"M18.56 5.44l.94 2.06.94-2.06 2.06-.94-2.06-.94-.94-2.06-.94 2.06-2.06.94zm-11 1L8.5 8.5l.94-2.06 2.06-.94-2.06-.94L8.5 2.5l-.94 2.06-2.06.94zm10 10l.94 2.06.94-2.06 2.06-.94-2.06-.94-.94-2.06-.94 2.06-2.06.94z\"/><path d=\"M17.41 7.96l-1.37-1.37c-.4-.4-.92-.59-1.43-.59-.52 0-1.04.2-1.43.59L10.3 9.45l-7.72 7.72c-.78.78-.78 2.05 0 2.83L4 21.41c.39.39.9.59 1.41.59.51 0 1.02-.2 1.41-.59l7.78-7.78 2.81-2.81c.8-.78.8-2.07 0-2.86zM5.41 20L4 18.59l7.72-7.72 1.47 1.35L5.41 20z\"/>\n",
              "  </svg>\n",
              "      </button>\n",
              "      \n",
              "  <style>\n",
              "    .colab-df-container {\n",
              "      display:flex;\n",
              "      flex-wrap:wrap;\n",
              "      gap: 12px;\n",
              "    }\n",
              "\n",
              "    .colab-df-convert {\n",
              "      background-color: #E8F0FE;\n",
              "      border: none;\n",
              "      border-radius: 50%;\n",
              "      cursor: pointer;\n",
              "      display: none;\n",
              "      fill: #1967D2;\n",
              "      height: 32px;\n",
              "      padding: 0 0 0 0;\n",
              "      width: 32px;\n",
              "    }\n",
              "\n",
              "    .colab-df-convert:hover {\n",
              "      background-color: #E2EBFA;\n",
              "      box-shadow: 0px 1px 2px rgba(60, 64, 67, 0.3), 0px 1px 3px 1px rgba(60, 64, 67, 0.15);\n",
              "      fill: #174EA6;\n",
              "    }\n",
              "\n",
              "    [theme=dark] .colab-df-convert {\n",
              "      background-color: #3B4455;\n",
              "      fill: #D2E3FC;\n",
              "    }\n",
              "\n",
              "    [theme=dark] .colab-df-convert:hover {\n",
              "      background-color: #434B5C;\n",
              "      box-shadow: 0px 1px 3px 1px rgba(0, 0, 0, 0.15);\n",
              "      filter: drop-shadow(0px 1px 2px rgba(0, 0, 0, 0.3));\n",
              "      fill: #FFFFFF;\n",
              "    }\n",
              "  </style>\n",
              "\n",
              "      <script>\n",
              "        const buttonEl =\n",
              "          document.querySelector('#df-a06c1a29-a140-459d-af4e-971e7ba9bf66 button.colab-df-convert');\n",
              "        buttonEl.style.display =\n",
              "          google.colab.kernel.accessAllowed ? 'block' : 'none';\n",
              "\n",
              "        async function convertToInteractive(key) {\n",
              "          const element = document.querySelector('#df-a06c1a29-a140-459d-af4e-971e7ba9bf66');\n",
              "          const dataTable =\n",
              "            await google.colab.kernel.invokeFunction('convertToInteractive',\n",
              "                                                     [key], {});\n",
              "          if (!dataTable) return;\n",
              "\n",
              "          const docLinkHtml = 'Like what you see? Visit the ' +\n",
              "            '<a target=\"_blank\" href=https://colab.research.google.com/notebooks/data_table.ipynb>data table notebook</a>'\n",
              "            + ' to learn more about interactive tables.';\n",
              "          element.innerHTML = '';\n",
              "          dataTable['output_type'] = 'display_data';\n",
              "          await google.colab.output.renderOutput(dataTable, element);\n",
              "          const docLink = document.createElement('div');\n",
              "          docLink.innerHTML = docLinkHtml;\n",
              "          element.appendChild(docLink);\n",
              "        }\n",
              "      </script>\n",
              "    </div>\n",
              "  </div>\n",
              "  "
            ]
          },
          "metadata": {},
          "execution_count": 2
        }
      ]
    },
    {
      "cell_type": "code",
      "source": [
        "#Data Preprocesing Using Z-score technique\n",
        "mdata=data.drop('Date',axis=1)\n",
        "\n",
        "from scipy.stats import zscore\n",
        "mdata = mdata.apply(zscore)\n",
        "mdata.head()\n",
        "len(mdata.index)\n"
      ],
      "metadata": {
        "colab": {
          "base_uri": "https://localhost:8080/"
        },
        "id": "SrhxKEqCSbpW",
        "outputId": "56f6d9e4-075a-4793-8fc8-11a81516f9ca"
      },
      "execution_count": 3,
      "outputs": [
        {
          "output_type": "execute_result",
          "data": {
            "text/plain": [
              "1258"
            ]
          },
          "metadata": {},
          "execution_count": 3
        }
      ]
    },
    {
      "cell_type": "code",
      "source": [
        "#Making matrices of 10*6 shape\n",
        "mdata=np.array(mdata)\n",
        "dataset=[]\n",
        "label=[]\n",
        "for i in range(len(data.index) - 11):\n",
        "  dataset.append(mdata[i:i+10])\n",
        "  label.append(mdata[i+11][0])\n",
        "label = np.array(label)\n",
        "dataset = np.array(dataset)\n",
        "\n"
      ],
      "metadata": {
        "id": "q9W9JriPSb1z"
      },
      "execution_count": 4,
      "outputs": []
    },
    {
      "cell_type": "code",
      "source": [
        "#Splitting Data\n",
        "r=int(len(dataset)*train_ratio)\n",
        "X_train=dataset[:r]\n",
        "X_test=dataset[r:]\n",
        "y_train=label[:r]\n",
        "y_test=label[r:]"
      ],
      "metadata": {
        "id": "axKz7y2FzT1A"
      },
      "execution_count": 5,
      "outputs": []
    },
    {
      "cell_type": "code",
      "source": [
        "#Model\n",
        "model = keras.models.Sequential()\n",
        "model.add(layers.Conv1D(32,1,padding='same',activation='tanh',input_shape=(10,6)))\n",
        "model.add(layers.MaxPool1D(pool_size=1,padding='same'))\n",
        "model.add(layers.LSTM(64,activation='tanh',))\n",
        "model.add(layers.Dense(1))"
      ],
      "metadata": {
        "id": "65GES-FJVEt8"
      },
      "execution_count": 6,
      "outputs": []
    },
    {
      "cell_type": "code",
      "source": [
        "model.compile(loss='mean_absolute_error',optimizer=keras.optimizers.Adam(learning_rate=0.001))"
      ],
      "metadata": {
        "id": "igNdP39BYAqb"
      },
      "execution_count": 13,
      "outputs": []
    },
    {
      "cell_type": "code",
      "source": [
        "model.summary()\n"
      ],
      "metadata": {
        "colab": {
          "base_uri": "https://localhost:8080/"
        },
        "id": "VdNugKxpvf6q",
        "outputId": "8ec5742a-9603-4ec9-aeb3-e63721133231"
      },
      "execution_count": 8,
      "outputs": [
        {
          "output_type": "stream",
          "name": "stdout",
          "text": [
            "Model: \"sequential\"\n",
            "_________________________________________________________________\n",
            " Layer (type)                Output Shape              Param #   \n",
            "=================================================================\n",
            " conv1d (Conv1D)             (None, 10, 32)            224       \n",
            "                                                                 \n",
            " max_pooling1d (MaxPooling1D  (None, 10, 32)           0         \n",
            " )                                                               \n",
            "                                                                 \n",
            " lstm (LSTM)                 (None, 64)                24832     \n",
            "                                                                 \n",
            " dense (Dense)               (None, 1)                 65        \n",
            "                                                                 \n",
            "=================================================================\n",
            "Total params: 25,121\n",
            "Trainable params: 25,121\n",
            "Non-trainable params: 0\n",
            "_________________________________________________________________\n"
          ]
        }
      ]
    },
    {
      "cell_type": "code",
      "source": [
        "#Training\n",
        "model.fit(X_train,y_train,validation_data=(X_test,y_test),epochs=100,batch_size=64)"
      ],
      "metadata": {
        "id": "SXefYvZIyRA6",
        "colab": {
          "base_uri": "https://localhost:8080/"
        },
        "outputId": "29d0c856-f002-479e-d2ed-307a2a538083"
      },
      "execution_count": 9,
      "outputs": [
        {
          "output_type": "stream",
          "name": "stdout",
          "text": [
            "Epoch 1/100\n",
            "17/17 [==============================] - 2s 33ms/step - loss: 0.1656 - accuracy: 0.0000e+00 - val_loss: 0.4371 - val_accuracy: 0.0000e+00\n",
            "Epoch 2/100\n",
            "17/17 [==============================] - 0s 10ms/step - loss: 0.0859 - accuracy: 0.0000e+00 - val_loss: 0.3144 - val_accuracy: 0.0000e+00\n",
            "Epoch 3/100\n",
            "17/17 [==============================] - 0s 9ms/step - loss: 0.0628 - accuracy: 0.0000e+00 - val_loss: 0.2137 - val_accuracy: 0.0000e+00\n",
            "Epoch 4/100\n",
            "17/17 [==============================] - 0s 9ms/step - loss: 0.0547 - accuracy: 0.0000e+00 - val_loss: 0.2149 - val_accuracy: 0.0000e+00\n",
            "Epoch 5/100\n",
            "17/17 [==============================] - 0s 9ms/step - loss: 0.0432 - accuracy: 0.0000e+00 - val_loss: 0.2018 - val_accuracy: 0.0000e+00\n",
            "Epoch 6/100\n",
            "17/17 [==============================] - 0s 8ms/step - loss: 0.0420 - accuracy: 0.0000e+00 - val_loss: 0.1705 - val_accuracy: 0.0000e+00\n",
            "Epoch 7/100\n",
            "17/17 [==============================] - 0s 9ms/step - loss: 0.0406 - accuracy: 0.0000e+00 - val_loss: 0.1323 - val_accuracy: 0.0000e+00\n",
            "Epoch 8/100\n",
            "17/17 [==============================] - 0s 9ms/step - loss: 0.0382 - accuracy: 0.0000e+00 - val_loss: 0.1547 - val_accuracy: 0.0000e+00\n",
            "Epoch 9/100\n",
            "17/17 [==============================] - 0s 9ms/step - loss: 0.0400 - accuracy: 0.0000e+00 - val_loss: 0.1226 - val_accuracy: 0.0000e+00\n",
            "Epoch 10/100\n",
            "17/17 [==============================] - 0s 9ms/step - loss: 0.0384 - accuracy: 0.0000e+00 - val_loss: 0.1621 - val_accuracy: 0.0000e+00\n",
            "Epoch 11/100\n",
            "17/17 [==============================] - 0s 9ms/step - loss: 0.0367 - accuracy: 0.0000e+00 - val_loss: 0.1580 - val_accuracy: 0.0000e+00\n",
            "Epoch 12/100\n",
            "17/17 [==============================] - 0s 9ms/step - loss: 0.0374 - accuracy: 0.0000e+00 - val_loss: 0.1121 - val_accuracy: 0.0000e+00\n",
            "Epoch 13/100\n",
            "17/17 [==============================] - 0s 9ms/step - loss: 0.0385 - accuracy: 0.0000e+00 - val_loss: 0.1951 - val_accuracy: 0.0000e+00\n",
            "Epoch 14/100\n",
            "17/17 [==============================] - 0s 9ms/step - loss: 0.0366 - accuracy: 0.0000e+00 - val_loss: 0.1471 - val_accuracy: 0.0000e+00\n",
            "Epoch 15/100\n",
            "17/17 [==============================] - 0s 12ms/step - loss: 0.0359 - accuracy: 0.0000e+00 - val_loss: 0.1364 - val_accuracy: 0.0000e+00\n",
            "Epoch 16/100\n",
            "17/17 [==============================] - 0s 15ms/step - loss: 0.0352 - accuracy: 0.0000e+00 - val_loss: 0.1084 - val_accuracy: 0.0000e+00\n",
            "Epoch 17/100\n",
            "17/17 [==============================] - 0s 14ms/step - loss: 0.0394 - accuracy: 0.0000e+00 - val_loss: 0.1485 - val_accuracy: 0.0000e+00\n",
            "Epoch 18/100\n",
            "17/17 [==============================] - 0s 14ms/step - loss: 0.0365 - accuracy: 0.0000e+00 - val_loss: 0.1165 - val_accuracy: 0.0000e+00\n",
            "Epoch 19/100\n",
            "17/17 [==============================] - 0s 16ms/step - loss: 0.0357 - accuracy: 0.0000e+00 - val_loss: 0.1298 - val_accuracy: 0.0000e+00\n",
            "Epoch 20/100\n",
            "17/17 [==============================] - 0s 16ms/step - loss: 0.0361 - accuracy: 0.0000e+00 - val_loss: 0.1842 - val_accuracy: 0.0000e+00\n",
            "Epoch 21/100\n",
            "17/17 [==============================] - 0s 18ms/step - loss: 0.0353 - accuracy: 0.0000e+00 - val_loss: 0.1215 - val_accuracy: 0.0000e+00\n",
            "Epoch 22/100\n",
            "17/17 [==============================] - 0s 14ms/step - loss: 0.0365 - accuracy: 0.0000e+00 - val_loss: 0.1133 - val_accuracy: 0.0000e+00\n",
            "Epoch 23/100\n",
            "17/17 [==============================] - 0s 16ms/step - loss: 0.0349 - accuracy: 0.0000e+00 - val_loss: 0.1569 - val_accuracy: 0.0000e+00\n",
            "Epoch 24/100\n",
            "17/17 [==============================] - 0s 15ms/step - loss: 0.0345 - accuracy: 0.0000e+00 - val_loss: 0.1339 - val_accuracy: 0.0000e+00\n",
            "Epoch 25/100\n",
            "17/17 [==============================] - 0s 20ms/step - loss: 0.0348 - accuracy: 0.0000e+00 - val_loss: 0.1319 - val_accuracy: 0.0000e+00\n",
            "Epoch 26/100\n",
            "17/17 [==============================] - 0s 14ms/step - loss: 0.0327 - accuracy: 0.0000e+00 - val_loss: 0.1067 - val_accuracy: 0.0000e+00\n",
            "Epoch 27/100\n",
            "17/17 [==============================] - 0s 15ms/step - loss: 0.0327 - accuracy: 0.0000e+00 - val_loss: 0.1556 - val_accuracy: 0.0000e+00\n",
            "Epoch 28/100\n",
            "17/17 [==============================] - 0s 16ms/step - loss: 0.0339 - accuracy: 0.0000e+00 - val_loss: 0.1101 - val_accuracy: 0.0000e+00\n",
            "Epoch 29/100\n",
            "17/17 [==============================] - 0s 16ms/step - loss: 0.0369 - accuracy: 0.0000e+00 - val_loss: 0.1088 - val_accuracy: 0.0000e+00\n",
            "Epoch 30/100\n",
            "17/17 [==============================] - 0s 14ms/step - loss: 0.0381 - accuracy: 0.0000e+00 - val_loss: 0.1210 - val_accuracy: 0.0000e+00\n",
            "Epoch 31/100\n",
            "17/17 [==============================] - 0s 20ms/step - loss: 0.0360 - accuracy: 0.0000e+00 - val_loss: 0.1261 - val_accuracy: 0.0000e+00\n",
            "Epoch 32/100\n",
            "17/17 [==============================] - 0s 15ms/step - loss: 0.0335 - accuracy: 0.0000e+00 - val_loss: 0.1209 - val_accuracy: 0.0000e+00\n",
            "Epoch 33/100\n",
            "17/17 [==============================] - 0s 17ms/step - loss: 0.0329 - accuracy: 0.0000e+00 - val_loss: 0.1156 - val_accuracy: 0.0000e+00\n",
            "Epoch 34/100\n",
            "17/17 [==============================] - 0s 16ms/step - loss: 0.0324 - accuracy: 0.0000e+00 - val_loss: 0.1273 - val_accuracy: 0.0000e+00\n",
            "Epoch 35/100\n",
            "17/17 [==============================] - 0s 15ms/step - loss: 0.0335 - accuracy: 0.0000e+00 - val_loss: 0.1365 - val_accuracy: 0.0000e+00\n",
            "Epoch 36/100\n",
            "17/17 [==============================] - 0s 16ms/step - loss: 0.0326 - accuracy: 0.0000e+00 - val_loss: 0.1214 - val_accuracy: 0.0000e+00\n",
            "Epoch 37/100\n",
            "17/17 [==============================] - 0s 15ms/step - loss: 0.0323 - accuracy: 0.0000e+00 - val_loss: 0.1246 - val_accuracy: 0.0000e+00\n",
            "Epoch 38/100\n",
            "17/17 [==============================] - 0s 15ms/step - loss: 0.0338 - accuracy: 0.0000e+00 - val_loss: 0.1564 - val_accuracy: 0.0000e+00\n",
            "Epoch 39/100\n",
            "17/17 [==============================] - 0s 14ms/step - loss: 0.0333 - accuracy: 0.0000e+00 - val_loss: 0.1110 - val_accuracy: 0.0000e+00\n",
            "Epoch 40/100\n",
            "17/17 [==============================] - 0s 15ms/step - loss: 0.0344 - accuracy: 0.0000e+00 - val_loss: 0.1173 - val_accuracy: 0.0000e+00\n",
            "Epoch 41/100\n",
            "17/17 [==============================] - 0s 17ms/step - loss: 0.0317 - accuracy: 0.0000e+00 - val_loss: 0.1489 - val_accuracy: 0.0000e+00\n",
            "Epoch 42/100\n",
            "17/17 [==============================] - 0s 19ms/step - loss: 0.0335 - accuracy: 0.0000e+00 - val_loss: 0.1196 - val_accuracy: 0.0000e+00\n",
            "Epoch 43/100\n",
            "17/17 [==============================] - 0s 14ms/step - loss: 0.0317 - accuracy: 0.0000e+00 - val_loss: 0.1076 - val_accuracy: 0.0000e+00\n",
            "Epoch 44/100\n",
            "17/17 [==============================] - 0s 19ms/step - loss: 0.0318 - accuracy: 0.0000e+00 - val_loss: 0.1299 - val_accuracy: 0.0000e+00\n",
            "Epoch 45/100\n",
            "17/17 [==============================] - 0s 15ms/step - loss: 0.0328 - accuracy: 0.0000e+00 - val_loss: 0.1583 - val_accuracy: 0.0000e+00\n",
            "Epoch 46/100\n",
            "17/17 [==============================] - 0s 17ms/step - loss: 0.0312 - accuracy: 0.0000e+00 - val_loss: 0.0954 - val_accuracy: 0.0000e+00\n",
            "Epoch 47/100\n",
            "17/17 [==============================] - 0s 16ms/step - loss: 0.0324 - accuracy: 0.0000e+00 - val_loss: 0.1534 - val_accuracy: 0.0000e+00\n",
            "Epoch 48/100\n",
            "17/17 [==============================] - 0s 17ms/step - loss: 0.0308 - accuracy: 0.0000e+00 - val_loss: 0.1403 - val_accuracy: 0.0000e+00\n",
            "Epoch 49/100\n",
            "17/17 [==============================] - 0s 15ms/step - loss: 0.0341 - accuracy: 0.0000e+00 - val_loss: 0.1242 - val_accuracy: 0.0000e+00\n",
            "Epoch 50/100\n",
            "17/17 [==============================] - 0s 19ms/step - loss: 0.0326 - accuracy: 0.0000e+00 - val_loss: 0.0998 - val_accuracy: 0.0000e+00\n",
            "Epoch 51/100\n",
            "17/17 [==============================] - 0s 22ms/step - loss: 0.0333 - accuracy: 0.0000e+00 - val_loss: 0.1147 - val_accuracy: 0.0000e+00\n",
            "Epoch 52/100\n",
            "17/17 [==============================] - 0s 17ms/step - loss: 0.0330 - accuracy: 0.0000e+00 - val_loss: 0.1007 - val_accuracy: 0.0000e+00\n",
            "Epoch 53/100\n",
            "17/17 [==============================] - 0s 21ms/step - loss: 0.0306 - accuracy: 0.0000e+00 - val_loss: 0.1070 - val_accuracy: 0.0000e+00\n",
            "Epoch 54/100\n",
            "17/17 [==============================] - 0s 20ms/step - loss: 0.0313 - accuracy: 0.0000e+00 - val_loss: 0.1499 - val_accuracy: 0.0000e+00\n",
            "Epoch 55/100\n",
            "17/17 [==============================] - 0s 20ms/step - loss: 0.0319 - accuracy: 0.0000e+00 - val_loss: 0.1273 - val_accuracy: 0.0000e+00\n",
            "Epoch 56/100\n",
            "17/17 [==============================] - 0s 14ms/step - loss: 0.0310 - accuracy: 0.0000e+00 - val_loss: 0.1183 - val_accuracy: 0.0000e+00\n",
            "Epoch 57/100\n",
            "17/17 [==============================] - 0s 13ms/step - loss: 0.0312 - accuracy: 0.0000e+00 - val_loss: 0.1141 - val_accuracy: 0.0000e+00\n",
            "Epoch 58/100\n",
            "17/17 [==============================] - 0s 26ms/step - loss: 0.0302 - accuracy: 0.0000e+00 - val_loss: 0.1198 - val_accuracy: 0.0000e+00\n",
            "Epoch 59/100\n",
            "17/17 [==============================] - 0s 25ms/step - loss: 0.0304 - accuracy: 0.0000e+00 - val_loss: 0.1082 - val_accuracy: 0.0000e+00\n",
            "Epoch 60/100\n",
            "17/17 [==============================] - 0s 17ms/step - loss: 0.0329 - accuracy: 0.0000e+00 - val_loss: 0.1018 - val_accuracy: 0.0000e+00\n",
            "Epoch 61/100\n",
            "17/17 [==============================] - 0s 18ms/step - loss: 0.0308 - accuracy: 0.0000e+00 - val_loss: 0.1007 - val_accuracy: 0.0000e+00\n",
            "Epoch 62/100\n",
            "17/17 [==============================] - 0s 18ms/step - loss: 0.0308 - accuracy: 0.0000e+00 - val_loss: 0.1018 - val_accuracy: 0.0000e+00\n",
            "Epoch 63/100\n",
            "17/17 [==============================] - 0s 16ms/step - loss: 0.0306 - accuracy: 0.0000e+00 - val_loss: 0.1193 - val_accuracy: 0.0000e+00\n",
            "Epoch 64/100\n",
            "17/17 [==============================] - 0s 22ms/step - loss: 0.0303 - accuracy: 0.0000e+00 - val_loss: 0.1047 - val_accuracy: 0.0000e+00\n",
            "Epoch 65/100\n",
            "17/17 [==============================] - 0s 15ms/step - loss: 0.0303 - accuracy: 0.0000e+00 - val_loss: 0.0907 - val_accuracy: 0.0000e+00\n",
            "Epoch 66/100\n",
            "17/17 [==============================] - 0s 18ms/step - loss: 0.0296 - accuracy: 0.0000e+00 - val_loss: 0.0925 - val_accuracy: 0.0000e+00\n",
            "Epoch 67/100\n",
            "17/17 [==============================] - 0s 14ms/step - loss: 0.0312 - accuracy: 0.0000e+00 - val_loss: 0.1155 - val_accuracy: 0.0000e+00\n",
            "Epoch 68/100\n",
            "17/17 [==============================] - 0s 19ms/step - loss: 0.0295 - accuracy: 0.0000e+00 - val_loss: 0.1141 - val_accuracy: 0.0000e+00\n",
            "Epoch 69/100\n",
            "17/17 [==============================] - 0s 14ms/step - loss: 0.0308 - accuracy: 0.0000e+00 - val_loss: 0.1092 - val_accuracy: 0.0000e+00\n",
            "Epoch 70/100\n",
            "17/17 [==============================] - 0s 16ms/step - loss: 0.0304 - accuracy: 0.0000e+00 - val_loss: 0.1132 - val_accuracy: 0.0000e+00\n",
            "Epoch 71/100\n",
            "17/17 [==============================] - 0s 16ms/step - loss: 0.0295 - accuracy: 0.0000e+00 - val_loss: 0.1112 - val_accuracy: 0.0000e+00\n",
            "Epoch 72/100\n",
            "17/17 [==============================] - 0s 20ms/step - loss: 0.0289 - accuracy: 0.0000e+00 - val_loss: 0.1039 - val_accuracy: 0.0000e+00\n",
            "Epoch 73/100\n",
            "17/17 [==============================] - 0s 15ms/step - loss: 0.0292 - accuracy: 0.0000e+00 - val_loss: 0.1135 - val_accuracy: 0.0000e+00\n",
            "Epoch 74/100\n",
            "17/17 [==============================] - 0s 16ms/step - loss: 0.0303 - accuracy: 0.0000e+00 - val_loss: 0.1137 - val_accuracy: 0.0000e+00\n",
            "Epoch 75/100\n",
            "17/17 [==============================] - 0s 23ms/step - loss: 0.0310 - accuracy: 0.0000e+00 - val_loss: 0.1288 - val_accuracy: 0.0000e+00\n",
            "Epoch 76/100\n",
            "17/17 [==============================] - 0s 13ms/step - loss: 0.0307 - accuracy: 0.0000e+00 - val_loss: 0.1155 - val_accuracy: 0.0000e+00\n",
            "Epoch 77/100\n",
            "17/17 [==============================] - 0s 13ms/step - loss: 0.0335 - accuracy: 0.0000e+00 - val_loss: 0.0882 - val_accuracy: 0.0000e+00\n",
            "Epoch 78/100\n",
            "17/17 [==============================] - 0s 18ms/step - loss: 0.0299 - accuracy: 0.0000e+00 - val_loss: 0.1020 - val_accuracy: 0.0000e+00\n",
            "Epoch 79/100\n",
            "17/17 [==============================] - 0s 11ms/step - loss: 0.0295 - accuracy: 0.0000e+00 - val_loss: 0.0945 - val_accuracy: 0.0000e+00\n",
            "Epoch 80/100\n",
            "17/17 [==============================] - 0s 9ms/step - loss: 0.0310 - accuracy: 0.0000e+00 - val_loss: 0.1283 - val_accuracy: 0.0000e+00\n",
            "Epoch 81/100\n",
            "17/17 [==============================] - 0s 9ms/step - loss: 0.0302 - accuracy: 0.0000e+00 - val_loss: 0.1179 - val_accuracy: 0.0000e+00\n",
            "Epoch 82/100\n",
            "17/17 [==============================] - 0s 9ms/step - loss: 0.0301 - accuracy: 0.0000e+00 - val_loss: 0.0961 - val_accuracy: 0.0000e+00\n",
            "Epoch 83/100\n",
            "17/17 [==============================] - 0s 9ms/step - loss: 0.0302 - accuracy: 0.0000e+00 - val_loss: 0.1342 - val_accuracy: 0.0000e+00\n",
            "Epoch 84/100\n",
            "17/17 [==============================] - 0s 9ms/step - loss: 0.0296 - accuracy: 0.0000e+00 - val_loss: 0.1025 - val_accuracy: 0.0000e+00\n",
            "Epoch 85/100\n",
            "17/17 [==============================] - 0s 9ms/step - loss: 0.0293 - accuracy: 0.0000e+00 - val_loss: 0.0998 - val_accuracy: 0.0000e+00\n",
            "Epoch 86/100\n",
            "17/17 [==============================] - 0s 9ms/step - loss: 0.0288 - accuracy: 0.0000e+00 - val_loss: 0.1112 - val_accuracy: 0.0000e+00\n",
            "Epoch 87/100\n",
            "17/17 [==============================] - 0s 9ms/step - loss: 0.0299 - accuracy: 0.0000e+00 - val_loss: 0.0991 - val_accuracy: 0.0000e+00\n",
            "Epoch 88/100\n",
            "17/17 [==============================] - 0s 9ms/step - loss: 0.0303 - accuracy: 0.0000e+00 - val_loss: 0.1010 - val_accuracy: 0.0000e+00\n",
            "Epoch 89/100\n",
            "17/17 [==============================] - 0s 9ms/step - loss: 0.0290 - accuracy: 0.0000e+00 - val_loss: 0.1144 - val_accuracy: 0.0000e+00\n",
            "Epoch 90/100\n",
            "17/17 [==============================] - 0s 10ms/step - loss: 0.0286 - accuracy: 0.0000e+00 - val_loss: 0.1039 - val_accuracy: 0.0000e+00\n",
            "Epoch 91/100\n",
            "17/17 [==============================] - 0s 10ms/step - loss: 0.0287 - accuracy: 0.0000e+00 - val_loss: 0.0940 - val_accuracy: 0.0000e+00\n",
            "Epoch 92/100\n",
            "17/17 [==============================] - 0s 9ms/step - loss: 0.0287 - accuracy: 0.0000e+00 - val_loss: 0.1001 - val_accuracy: 0.0000e+00\n",
            "Epoch 93/100\n",
            "17/17 [==============================] - 0s 9ms/step - loss: 0.0307 - accuracy: 0.0000e+00 - val_loss: 0.1012 - val_accuracy: 0.0000e+00\n",
            "Epoch 94/100\n",
            "17/17 [==============================] - 0s 9ms/step - loss: 0.0308 - accuracy: 0.0000e+00 - val_loss: 0.1254 - val_accuracy: 0.0000e+00\n",
            "Epoch 95/100\n",
            "17/17 [==============================] - 0s 8ms/step - loss: 0.0305 - accuracy: 0.0000e+00 - val_loss: 0.1366 - val_accuracy: 0.0000e+00\n",
            "Epoch 96/100\n",
            "17/17 [==============================] - 0s 9ms/step - loss: 0.0281 - accuracy: 0.0000e+00 - val_loss: 0.1046 - val_accuracy: 0.0000e+00\n",
            "Epoch 97/100\n",
            "17/17 [==============================] - 0s 9ms/step - loss: 0.0296 - accuracy: 0.0000e+00 - val_loss: 0.0887 - val_accuracy: 0.0000e+00\n",
            "Epoch 98/100\n",
            "17/17 [==============================] - 0s 9ms/step - loss: 0.0345 - accuracy: 0.0000e+00 - val_loss: 0.0932 - val_accuracy: 0.0000e+00\n",
            "Epoch 99/100\n",
            "17/17 [==============================] - 0s 9ms/step - loss: 0.0337 - accuracy: 0.0000e+00 - val_loss: 0.1101 - val_accuracy: 0.0000e+00\n",
            "Epoch 100/100\n",
            "17/17 [==============================] - 0s 9ms/step - loss: 0.0287 - accuracy: 0.0000e+00 - val_loss: 0.1110 - val_accuracy: 0.0000e+00\n"
          ]
        },
        {
          "output_type": "execute_result",
          "data": {
            "text/plain": [
              "<keras.callbacks.History at 0x7f6d966f0d50>"
            ]
          },
          "metadata": {},
          "execution_count": 9
        }
      ]
    },
    {
      "cell_type": "code",
      "source": [
        ""
      ],
      "metadata": {
        "id": "O5rOE_lx_Xni"
      },
      "execution_count": 9,
      "outputs": []
    },
    {
      "cell_type": "code",
      "source": [
        "#Converting data back to Stock Price\n",
        "m=data['Open'].mean()\n",
        "s=data['Open'].std()\n",
        "y_pred = model.predict(X_test)\n",
        "y_pred = (y_pred * s) + m\n",
        "y_test = (y_test * s) + m"
      ],
      "metadata": {
        "id": "Urpmzft6MJOl"
      },
      "execution_count": 10,
      "outputs": []
    },
    {
      "cell_type": "code",
      "source": [
        "#Plotting Result\n",
        "plt.plot([x for x in range(len(y_test))],y_test,color='red')\n",
        "plt.plot([x for x in range(len(y_test))],y_pred,color='blue')\n",
        "plt.xlabel('Data')\n",
        "plt.ylabel('Stock Prices')\n",
        "plt.title(\"CNN-LSTM\")\n",
        "plt.legend(['Real Price','Predicted Price'])\n",
        "plt.show()"
      ],
      "metadata": {
        "colab": {
          "base_uri": "https://localhost:8080/",
          "height": 295
        },
        "id": "2aWKcaDtOspa",
        "outputId": "9dc515b9-830a-4087-dbd3-79ab2fd74209"
      },
      "execution_count": 12,
      "outputs": [
        {
          "output_type": "display_data",
          "data": {
            "text/plain": [
              "<Figure size 432x288 with 1 Axes>"
            ],
            "image/png": "[encoded data removed]"
          },
          "metadata": {
            "needs_background": "light"
          }
        }
      ]
    },
    {
      "cell_type": "code",
      "source": [
        ""
      ],
      "metadata": {
        "id": "xZ9OH0soMxLC"
      },
      "execution_count": 11,
      "outputs": []
    }
  ]
}